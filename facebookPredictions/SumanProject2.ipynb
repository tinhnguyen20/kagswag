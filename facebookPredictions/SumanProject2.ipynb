{
 "cells": [
  {
   "cell_type": "markdown",
   "metadata": {},
   "source": [
    "# Facebook: Predicting Check Ins\n",
    "\n",
    "### Group: Tinh Nguyen, Joelynn Deng, AC Dela Paz, Suman Tripathy"
   ]
  },
  {
   "cell_type": "code",
   "execution_count": 7,
   "metadata": {
    "collapsed": true
   },
   "outputs": [],
   "source": [
    "import numpy as np\n",
    "import pandas as pd\n",
    "import matplotlib.pyplot as plt\n",
    "%matplotlib inline\n",
    "\n",
    "from sklearn import datasets\n",
    "from matplotlib.colors import ListedColormap\n",
    "from sklearn.cross_validation import cross_val_score, train_test_split\n",
    "from sklearn.neighbors import KNeighborsClassifier as KNN\n",
    "from sklearn import linear_model\n",
    "from sklearn.linear_model import LogisticRegression, RidgeClassifier\n",
    "np.random.seed(30)"
   ]
  },
  {
   "cell_type": "code",
   "execution_count": null,
   "metadata": {
    "collapsed": true
   },
   "outputs": [],
   "source": []
  },
  {
   "cell_type": "code",
   "execution_count": null,
   "metadata": {
    "collapsed": true
   },
   "outputs": [],
   "source": []
  },
  {
   "cell_type": "code",
   "execution_count": null,
   "metadata": {
    "collapsed": true
   },
   "outputs": [],
   "source": []
  },
  {
   "cell_type": "code",
   "execution_count": null,
   "metadata": {
    "collapsed": true
   },
   "outputs": [],
   "source": [
    "#APK Metric Function\n",
    "def apk(actual, predicted, k=3):\n",
    "    if len(predicted) > k:\n",
    "        predicted = predicted[:k]\n",
    "\n",
    "    score = 0.0\n",
    "    num_hits = 0.0\n",
    "\n",
    "    for i,p in enumerate(predicted):\n",
    "        if p in actual and p not in predicted[:i]:\n",
    "            num_hits += 1.0\n",
    "            score += num_hits / (i+1.0)\n",
    "\n",
    "    if not actual:\n",
    "        return 0.0\n",
    "\n",
    "    return score / min(len(actual), k)"
   ]
  },
  {
   "cell_type": "code",
   "execution_count": null,
   "metadata": {
    "collapsed": true
   },
   "outputs": [],
   "source": [
    "#Read in the data\n",
    "fb_train = pd.read_csv(\"../../datasets/Facebook/train.csv\")\n",
    "fb_test = pd.read_csv(\"../../datasets/Facebook/test.csv\")\n",
    "fb_train.head()\n",
    "\n",
    "X = fb_train.drop(['place_id'], axis=1)\n",
    "y = fb_train['place_id']"
   ]
  },
  {
   "cell_type": "code",
   "execution_count": 3,
   "metadata": {
    "collapsed": false
   },
   "outputs": [
    {
     "ename": "NameError",
     "evalue": "name 'fb_train' is not defined",
     "output_type": "error",
     "traceback": [
      "\u001b[0;31m---------------------------------------------------------------------------\u001b[0m",
      "\u001b[0;31mNameError\u001b[0m                                 Traceback (most recent call last)",
      "\u001b[0;32m<ipython-input-3-af9423e1243d>\u001b[0m in \u001b[0;36m<module>\u001b[0;34m()\u001b[0m\n\u001b[1;32m      3\u001b[0m                                  dtype='datetime64[m]') \n\u001b[1;32m      4\u001b[0m d_times = pd.DatetimeIndex(initial_date + np.timedelta64(int(mn), 'm') \n\u001b[0;32m----> 5\u001b[0;31m                            for mn in fb_train.time.values)   \n\u001b[0m",
      "\u001b[0;31mNameError\u001b[0m: name 'fb_train' is not defined"
     ]
    }
   ],
   "source": [
    "#Processing \n",
    "initial_date = np.datetime64('2014-01-01T01:01',   #Arbitrary \n",
    "                                 dtype='datetime64[m]') \n",
    "d_times = pd.DatetimeIndex(initial_date + np.timedelta64(int(mn), 'm') \n",
    "                           for mn in fb_train.time.values)   "
   ]
  },
  {
   "cell_type": "code",
   "execution_count": null,
   "metadata": {
    "collapsed": true
   },
   "outputs": [],
   "source": [
    "X = fb_train.drop(['place_id'], axis=1)\n",
    "y = fb_train['place_id']\n",
    "fb_train.groupby('place_id').mean()\n",
    "\n",
    "#Simply use test_train_split\n",
    "X_train, X_test, y_train, y_test = train_test_split(X, y, test_size = 0.2)\n",
    "\n",
    "#Test, train, & split by time\n",
    "split_t = 730000\n",
    "X_traintime = X[X.time < split_t]\n",
    "X_testtime = X[X.time >= split_t]\n",
    "y_traintime = fb_train[fb_train.time < split_t]['place_id']\n",
    "y_testtime = fb_train[fb_train.time >= split_t]['place_id']"
   ]
  },
  {
   "cell_type": "code",
   "execution_count": 4,
   "metadata": {
    "collapsed": false
   },
   "outputs": [],
   "source": [
    "#Create our grid\n",
    "x_range = 0.5\n",
    "y_range = 0.25\n",
    "\n",
    "x_weights = 500\n",
    "y_weights = 1000\n",
    "\n",
    "xpoints = np.arange(0,x_weights*10,x_range*x_weights)\n",
    "xpoints = np.append(xpoints,x_weights*10+x_range*x_weights)\n",
    "ypoints = np.arange(0,y_weights*10,y_range*y_weights)\n",
    "ypoints = np.append(ypoints,y_weights*10+y_range)\n",
    "x_grid, y_grid = np.meshgrid(xpoints,ypoints)"
   ]
  },
  {
   "cell_type": "code",
   "execution_count": null,
   "metadata": {
    "collapsed": true
   },
   "outputs": [],
   "source": [
    "#Train on one grid using normal training set\n",
    "score = 0.0\n",
    "total = 0\n",
    "cumulative_scores = []\n",
    "\n",
    "i = 0\n",
    "j = 0\n",
    "\n",
    "subset = X_train[(X_train['x'] >= x_grid[i][j]) & (X_train['x'] < x_grid[i][j+1]) & \\\n",
    "                     (X_train['y'] >= y_grid[i][j]) & (X_train['y'] < y_grid[i+1][j])]\n",
    "test_subset = X_test[(X_test['x'] >= x_grid[i][j]) & (X_test['x'] < x_grid[i][j+1]) & \\\n",
    "                         (X_test['y'] >= y_grid[i][j]) & (X_test['y'] < y_grid[i+1][j])]"
   ]
  },
  {
   "cell_type": "code",
   "execution_count": 36,
   "metadata": {
    "collapsed": false
   },
   "outputs": [
    {
     "name": "stdout",
     "output_type": "stream",
     "text": [
      "7.580753568836803\n",
      "7.249712698123841\n"
     ]
    }
   ],
   "source": [
    "#Train on one grid using time-based training set\n",
    "time_score = 0.0\n",
    "time_total = 0\n",
    "time_cumulative_scores = []\n",
    "\n",
    "i = 0\n",
    "j = 0\n",
    "\n",
    "time_subset = X_traintime[(X_traintime['x'] >= x_grid[i][j]) & (X_traintime['x'] < x_grid[i][j+1]) & \\\n",
    "                     (X_traintime['y'] >= y_grid[i][j]) & (X_traintime['y'] < y_grid[i+1][j])]\n",
    "time_test_subset = X_testtime[(X_testtime['x'] >= x_grid[i][j]) & (X_testtime['x'] < x_grid[i][j+1]) & \\\n",
    "                         (X_testtime['y'] >= y_grid[i][j]) & (X_testtime['y'] < y_grid[i+1][j])]"
   ]
  },
  {
   "cell_type": "code",
   "execution_count": 54,
   "metadata": {
    "collapsed": false
   },
   "outputs": [
    {
     "data": {
      "text/html": [
       "<div>\n",
       "<table border=\"1\" class=\"dataframe\">\n",
       "  <thead>\n",
       "    <tr style=\"text-align: right;\">\n",
       "      <th></th>\n",
       "      <th>row_id</th>\n",
       "      <th>x</th>\n",
       "      <th>y</th>\n",
       "      <th>accuracy</th>\n",
       "      <th>time</th>\n",
       "    </tr>\n",
       "  </thead>\n",
       "  <tbody>\n",
       "    <tr>\n",
       "      <th>305587</th>\n",
       "      <td>305587</td>\n",
       "      <td>5.1050</td>\n",
       "      <td>6.4115</td>\n",
       "      <td>172</td>\n",
       "      <td>362163</td>\n",
       "    </tr>\n",
       "    <tr>\n",
       "      <th>93140</th>\n",
       "      <td>93140</td>\n",
       "      <td>2.6905</td>\n",
       "      <td>5.8470</td>\n",
       "      <td>5</td>\n",
       "      <td>369458</td>\n",
       "    </tr>\n",
       "    <tr>\n",
       "      <th>781106</th>\n",
       "      <td>781106</td>\n",
       "      <td>4.4467</td>\n",
       "      <td>9.9711</td>\n",
       "      <td>67</td>\n",
       "      <td>560596</td>\n",
       "    </tr>\n",
       "    <tr>\n",
       "      <th>1007270</th>\n",
       "      <td>1007270</td>\n",
       "      <td>6.8005</td>\n",
       "      <td>4.7053</td>\n",
       "      <td>57</td>\n",
       "      <td>110013</td>\n",
       "    </tr>\n",
       "    <tr>\n",
       "      <th>65266</th>\n",
       "      <td>65266</td>\n",
       "      <td>9.6079</td>\n",
       "      <td>4.5557</td>\n",
       "      <td>67</td>\n",
       "      <td>743654</td>\n",
       "    </tr>\n",
       "  </tbody>\n",
       "</table>\n",
       "</div>"
      ],
      "text/plain": [
       "          row_id       x       y  accuracy    time\n",
       "305587    305587  5.1050  6.4115       172  362163\n",
       "93140      93140  2.6905  5.8470         5  369458\n",
       "781106    781106  4.4467  9.9711        67  560596\n",
       "1007270  1007270  6.8005  4.7053        57  110013\n",
       "65266      65266  9.6079  4.5557        67  743654"
      ]
     },
     "execution_count": 54,
     "metadata": {},
     "output_type": "execute_result"
    }
   ],
   "source": [
    "X_train.head()"
   ]
  },
  {
   "cell_type": "code",
   "execution_count": null,
   "metadata": {
    "collapsed": false
   },
   "outputs": [],
   "source": [
    "X_vals = (X_train['x'] > randomx) & (X_train['x'] < (randomx + .25))\n",
    "Y_vals = (X_train['y'] > randomy) & (X_train['y'] < (randomy + .25))\n",
    "true_vals = X_vals & Y_vals\n",
    "true_vals.shape\n",
    "new_data = X_train.where(true_vals)\n",
    "new_data.head()"
   ]
  },
  {
   "cell_type": "code",
   "execution_count": null,
   "metadata": {
    "collapsed": true
   },
   "outputs": [],
   "source": [
    "def cv_stats(cv_score):\n",
    "    \"\"\" \n",
    "    Takes in the output of cross_val_score\n",
    "    Returns the mean and standard deviation in a readable format\n",
    "    \"\"\"\n",
    "    mean = np.mean(cv_score)\n",
    "    std = np.std(cv_score)\n",
    "    return mean, std"
   ]
  },
  {
   "cell_type": "markdown",
   "metadata": {},
   "source": [
    "# K Nearest Neighbors Model"
   ]
  },
  {
   "cell_type": "code",
   "execution_count": 6,
   "metadata": {
    "collapsed": false
   },
   "outputs": [
    {
     "ename": "NameError",
     "evalue": "name 'X_train' is not defined",
     "output_type": "error",
     "traceback": [
      "\u001b[0;31m---------------------------------------------------------------------------\u001b[0m",
      "\u001b[0;31mNameError\u001b[0m                                 Traceback (most recent call last)",
      "\u001b[0;32m<ipython-input-6-5a0113199dbc>\u001b[0m in \u001b[0;36m<module>\u001b[0;34m()\u001b[0m\n\u001b[1;32m      1\u001b[0m \u001b[0mclf\u001b[0m \u001b[0;34m=\u001b[0m \u001b[0mKNN\u001b[0m\u001b[0;34m(\u001b[0m\u001b[0mn_neighbors\u001b[0m \u001b[0;34m=\u001b[0m \u001b[0;36m50\u001b[0m\u001b[0;34m)\u001b[0m\u001b[0;34m\u001b[0m\u001b[0m\n\u001b[0;32m----> 2\u001b[0;31m \u001b[0mclf\u001b[0m\u001b[0;34m.\u001b[0m\u001b[0mfit\u001b[0m\u001b[0;34m(\u001b[0m\u001b[0mX_train\u001b[0m\u001b[0;34m,\u001b[0m \u001b[0my_train\u001b[0m\u001b[0;34m)\u001b[0m\u001b[0;34m\u001b[0m\u001b[0m\n\u001b[0m\u001b[1;32m      3\u001b[0m \u001b[0mall_predictions\u001b[0m \u001b[0;34m=\u001b[0m \u001b[0mclf\u001b[0m\u001b[0;34m.\u001b[0m\u001b[0mpredict_proba\u001b[0m\u001b[0;34m(\u001b[0m\u001b[0mX_test\u001b[0m\u001b[0;34m)\u001b[0m\u001b[0;34m\u001b[0m\u001b[0m\n\u001b[1;32m      4\u001b[0m \u001b[0;34m\u001b[0m\u001b[0m\n\u001b[1;32m      5\u001b[0m \u001b[0mall_predictions\u001b[0m\u001b[0;34m.\u001b[0m\u001b[0mshape\u001b[0m\u001b[0;34m\u001b[0m\u001b[0m\n",
      "\u001b[0;31mNameError\u001b[0m: name 'X_train' is not defined"
     ]
    }
   ],
   "source": [
    "clf = KNN(n_neighbors = 50)\n",
    "clf.fit(X_train, y_train)\n",
    "all_predictions = clf.predict_proba(X_test)\n",
    "\n",
    "all_predictions.shape"
   ]
  },
  {
   "cell_type": "code",
   "execution_count": null,
   "metadata": {
    "collapsed": true
   },
   "outputs": [],
   "source": [
    "#Test on time-based training set\n",
    "\n",
    "clf.fit(X_traintime, y_traintime)\n",
    "all_time_predictions = clf.predict_proba(X_testtime)\n"
   ]
  },
  {
   "cell_type": "markdown",
   "metadata": {},
   "source": [
    "# Linear Regression Model\n"
   ]
  },
  {
   "cell_type": "code",
   "execution_count": null,
   "metadata": {
    "collapsed": true
   },
   "outputs": [],
   "source": [
    "# Initialize linear regression\n",
    "clf = linear_model.LinearRegression()\n",
    "clf.fit(X_train, y_train)\n"
   ]
  },
  {
   "cell_type": "code",
   "execution_count": null,
   "metadata": {
    "collapsed": true
   },
   "outputs": [],
   "source": [
    "#Score Linear Regression based on normal training set\n",
    "\n",
    "train_r1 = clf.score(X_train, y_train) # fill out linreg\n",
    "test_r1 = clf.score(X_test, y_test)# fill out linreg\n",
    "\n",
    "print(\"Train accuracy : \", train_r1)\n",
    "print(\"Test accuracy : \", test_r1)"
   ]
  },
  {
   "cell_type": "code",
   "execution_count": null,
   "metadata": {
    "collapsed": true
   },
   "outputs": [],
   "source": [
    "y_pred = clf.predict(X_test) # predict on test set\n",
    "\n",
    "fig, ax = plt.subplots()\n",
    "ax.scatter(y_test, y_pred)\n",
    "ax.plot([y.min(), y.max()], [y.min(), y.max()], 'r--', lw=4)\n",
    "ax.set_xlabel('Test')\n",
    "ax.set_ylabel('Predicted')\n",
    "plt.title('Comparison of Actual vs Predicted Values')\n",
    "plt.show()"
   ]
  },
  {
   "cell_type": "markdown",
   "metadata": {},
   "source": [
    "#Logistic Regression Model\n"
   ]
  },
  {
   "cell_type": "code",
   "execution_count": null,
   "metadata": {
    "collapsed": true
   },
   "outputs": [],
   "source": [
    "# iterate through a range of penalty values and evaluate how well LogisticRegression does on average\n",
    "penalty = 0.001\n",
    "while penalty <= 10:\n",
    "    clf = LogisticRegression(C = penalty)\n",
    "    score = cross_val_score(clf, X_train, y_train, cv = 5)\n",
    "    stats = cv_stats(score)\n",
    "    print(\"For penalty={0}\", penalty, \"; Average={0}, STDEV={1}\".format(*stats))\n",
    "    penalty *= 10\n",
    "    \n",
    "# initialize and fit logistic regression\n",
    "clf = linear_model.LogisticRegression()\n",
    "clf.fit(X_train, y_train)"
   ]
  },
  {
   "cell_type": "code",
   "execution_count": null,
   "metadata": {
    "collapsed": true
   },
   "outputs": [],
   "source": [
    "train_r2 = clf.score(X_train, y_train) # score Logistic Regression on training set\n",
    "test_r2 = clf.score(X_test, y_test) # score Logistic Regression on test set\n",
    "\n",
    "\n",
    "print(\"Train accuracy : \", train_r2)\n",
    "print(\"Test accuracy : \", test_r2)"
   ]
  },
  {
   "cell_type": "markdown",
   "metadata": {},
   "source": [
    "# Ridge Regression Model\n"
   ]
  },
  {
   "cell_type": "code",
   "execution_count": 58,
   "metadata": {
    "collapsed": false
   },
   "outputs": [
    {
     "ename": "NameError",
     "evalue": "name 'RidgeClassifier' is not defined",
     "output_type": "error",
     "traceback": [
      "\u001b[0;31m---------------------------------------------------------------------------\u001b[0m",
      "\u001b[0;31mNameError\u001b[0m                                 Traceback (most recent call last)",
      "\u001b[0;32m<ipython-input-58-d2972019d96b>\u001b[0m in \u001b[0;36m<module>\u001b[0;34m()\u001b[0m\n\u001b[1;32m      2\u001b[0m \u001b[0mpenalty\u001b[0m \u001b[0;34m=\u001b[0m \u001b[0;36m0.01\u001b[0m\u001b[0;34m\u001b[0m\u001b[0m\n\u001b[1;32m      3\u001b[0m \u001b[0;32mwhile\u001b[0m \u001b[0mpenalty\u001b[0m \u001b[0;34m<\u001b[0m \u001b[0;36m10\u001b[0m\u001b[0;34m:\u001b[0m\u001b[0;34m\u001b[0m\u001b[0m\n\u001b[0;32m----> 4\u001b[0;31m     \u001b[0mclf\u001b[0m \u001b[0;34m=\u001b[0m \u001b[0mRidgeClassifier\u001b[0m\u001b[0;34m(\u001b[0m\u001b[0malpha\u001b[0m \u001b[0;34m=\u001b[0m \u001b[0mpenalty\u001b[0m\u001b[0;34m)\u001b[0m\u001b[0;34m\u001b[0m\u001b[0m\n\u001b[0m\u001b[1;32m      5\u001b[0m     \u001b[0mscore\u001b[0m \u001b[0;34m=\u001b[0m \u001b[0mcross_val_score\u001b[0m\u001b[0;34m(\u001b[0m\u001b[0mclf\u001b[0m\u001b[0;34m,\u001b[0m \u001b[0mX_train\u001b[0m\u001b[0;34m,\u001b[0m \u001b[0my_train\u001b[0m\u001b[0;34m,\u001b[0m \u001b[0mcv\u001b[0m \u001b[0;34m=\u001b[0m \u001b[0;36m5\u001b[0m\u001b[0;34m)\u001b[0m\u001b[0;34m\u001b[0m\u001b[0m\n\u001b[1;32m      6\u001b[0m     \u001b[0mstats\u001b[0m \u001b[0;34m=\u001b[0m \u001b[0mcv_stats\u001b[0m\u001b[0;34m(\u001b[0m\u001b[0mscore\u001b[0m\u001b[0;34m)\u001b[0m\u001b[0;34m\u001b[0m\u001b[0m\n",
      "\u001b[0;31mNameError\u001b[0m: name 'RidgeClassifier' is not defined"
     ]
    }
   ],
   "source": [
    "# iterate through a range of penalty values and evaluate how well RidgeClassifier does on average\n",
    "penalty = 0.01\n",
    "while penalty < 10:\n",
    "    clf = RidgeClassifier(alpha = penalty)\n",
    "    score = cross_val_score(clf, X_train, y_train, cv = 5)\n",
    "    stats = cv_stats(score)\n",
    "    print(\"For penalty = \", penalty, \"Average, std = \", stats)\n",
    "    penalty *= 10"
   ]
  },
  {
   "cell_type": "markdown",
   "metadata": {},
   "source": [
    "# Best Model\n",
    "## K Nearest Neighbors"
   ]
  },
  {
   "cell_type": "code",
   "execution_count": 1,
   "metadata": {
    "collapsed": false
   },
   "outputs": [
    {
     "ename": "NameError",
     "evalue": "name 'KNN' is not defined",
     "output_type": "error",
     "traceback": [
      "\u001b[0;31m---------------------------------------------------------------------------\u001b[0m",
      "\u001b[0;31mNameError\u001b[0m                                 Traceback (most recent call last)",
      "\u001b[0;32m<ipython-input-1-10f5dbd824f6>\u001b[0m in \u001b[0;36m<module>\u001b[0;34m()\u001b[0m\n\u001b[1;32m      1\u001b[0m \u001b[0;31m# initialize KNN here\u001b[0m\u001b[0;34m\u001b[0m\u001b[0;34m\u001b[0m\u001b[0m\n\u001b[0;32m----> 2\u001b[0;31m \u001b[0mclf\u001b[0m \u001b[0;34m=\u001b[0m \u001b[0mKNN\u001b[0m\u001b[0;34m(\u001b[0m\u001b[0;36m12\u001b[0m\u001b[0;34m)\u001b[0m\u001b[0;34m\u001b[0m\u001b[0m\n\u001b[0m\u001b[1;32m      3\u001b[0m \u001b[0mclf\u001b[0m\u001b[0;34m.\u001b[0m\u001b[0mfit\u001b[0m\u001b[0;34m(\u001b[0m\u001b[0mX_train\u001b[0m\u001b[0;34m,\u001b[0m \u001b[0my_train\u001b[0m\u001b[0;34m)\u001b[0m\u001b[0;34m\u001b[0m\u001b[0m\n\u001b[1;32m      4\u001b[0m \u001b[0;34m\u001b[0m\u001b[0m\n\u001b[1;32m      5\u001b[0m \u001b[0mtrain_acc\u001b[0m \u001b[0;34m=\u001b[0m \u001b[0mclf\u001b[0m\u001b[0;34m.\u001b[0m\u001b[0mscore\u001b[0m\u001b[0;34m(\u001b[0m\u001b[0mX_train\u001b[0m\u001b[0;34m,\u001b[0m \u001b[0my_train\u001b[0m\u001b[0;34m)\u001b[0m \u001b[0;31m# score KNN on train set\u001b[0m\u001b[0;34m\u001b[0m\u001b[0m\n",
      "\u001b[0;31mNameError\u001b[0m: name 'KNN' is not defined"
     ]
    }
   ],
   "source": [
    "# initialize KNN here\n",
    "clf = KNN(40)\n",
    "clf.fit(X_train, y_train)\n",
    "\n",
    "train_acc = clf.score(X_train, y_train) # score KNN on train set\n",
    "test_acc = clf.score(X_test, y_test) # score KNN on test set\n",
    "\n",
    "\n",
    "print(\"Train accuracy : \", train_acc)\n",
    "print(\"Test accuracy : \", test_acc)"
   ]
  },
  {
   "cell_type": "code",
   "execution_count": null,
   "metadata": {
    "collapsed": true
   },
   "outputs": [],
   "source": []
  }
 ],
 "metadata": {
  "kernelspec": {
   "display_name": "Python 3",
   "language": "python",
   "name": "python3"
  },
  "language_info": {
   "codemirror_mode": {
    "name": "ipython",
    "version": 3
   },
   "file_extension": ".py",
   "mimetype": "text/x-python",
   "name": "python",
   "nbconvert_exporter": "python",
   "pygments_lexer": "ipython3",
   "version": "3.4.4"
  }
 },
 "nbformat": 4,
 "nbformat_minor": 0
}
