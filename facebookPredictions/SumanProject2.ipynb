{
 "cells": [
  {
   "cell_type": "markdown",
   "metadata": {},
   "source": [
    "# Facebook: Predicting Check Ins\n",
    "\n",
    "### Group: Tinh Nguyen, Joelynn Deng, AC Dela Paz, Suman Tripathy"
   ]
  },
  {
   "cell_type": "code",
   "execution_count": 1,
   "metadata": {
    "collapsed": true
   },
   "outputs": [],
   "source": [
    "import numpy as np\n",
    "import pandas as pd\n",
    "import matplotlib.pyplot as plt\n",
    "%matplotlib inline\n",
    "\n",
    "from sklearn import datasets\n",
    "from matplotlib.colors import ListedColormap\n",
    "from sklearn.cross_validation import cross_val_score, train_test_split\n",
    "from sklearn.neighbors import KNeighborsClassifier as KNN\n",
    "from sklearn import linear_model\n",
    "from sklearn.linear_model import LogisticRegression, RidgeClassifier\n",
    "np.random.seed(30)"
   ]
  },
  {
   "cell_type": "code",
   "execution_count": 15,
   "metadata": {
    "collapsed": true
   },
   "outputs": [],
   "source": [
    "#APK Metric Function\n",
    "def apk(actual, predicted, k=3):\n",
    "    if len(predicted) > k:\n",
    "        predicted = predicted[:k]\n",
    "\n",
    "    score = 0.0\n",
    "    num_hits = 0.0\n",
    "\n",
    "    for i,p in enumerate(predicted):\n",
    "        if p in actual and p not in predicted[:i]:\n",
    "            num_hits += 1.0\n",
    "            score += num_hits / (i+1.0)\n",
    "\n",
    "    if not actual:\n",
    "        return 0.0\n",
    "\n",
    "    return score / min(len(actual), k)"
   ]
  },
  {
   "cell_type": "code",
   "execution_count": 32,
   "metadata": {
    "collapsed": true
   },
   "outputs": [],
   "source": [
    "#Read in the data\n",
    "fb_train = pd.read_csv(\"../../datasets/Facebook/train.csv\")\n",
    "fb_test = pd.read_csv(\"../../datasets/Facebook/test.csv\")\n",
    "fb_train.head()\n",
    "\n",
    "X = fb_train.drop(['place_id'], axis=1)\n",
    "y = fb_train['place_id']\n"
   ]
  },
  {
   "cell_type": "code",
   "execution_count": 33,
   "metadata": {
    "collapsed": false
   },
   "outputs": [],
   "source": [
    "#Processing \n",
    "initial_date = np.datetime64('2014-01-01T01:01',   #Arbitrary \n",
    "                                 dtype='datetime64[m]') \n",
    "d_times = pd.DatetimeIndex(initial_date + np.timedelta64(int(mn), 'm') \n",
    "                           for mn in fb_train.time.values)   "
   ]
  },
  {
   "cell_type": "code",
   "execution_count": 34,
   "metadata": {
    "collapsed": false
   },
   "outputs": [
    {
     "data": {
      "text/html": [
       "<div>\n",
       "<table border=\"1\" class=\"dataframe\">\n",
       "  <thead>\n",
       "    <tr style=\"text-align: right;\">\n",
       "      <th></th>\n",
       "      <th>row_id</th>\n",
       "      <th>x</th>\n",
       "      <th>y</th>\n",
       "      <th>accuracy</th>\n",
       "      <th>time</th>\n",
       "      <th>place_id</th>\n",
       "      <th>hour</th>\n",
       "      <th>weekday</th>\n",
       "      <th>day</th>\n",
       "      <th>month</th>\n",
       "      <th>year</th>\n",
       "    </tr>\n",
       "  </thead>\n",
       "  <tbody>\n",
       "    <tr>\n",
       "      <th>0</th>\n",
       "      <td>0</td>\n",
       "      <td>0.7941</td>\n",
       "      <td>9.0809</td>\n",
       "      <td>54</td>\n",
       "      <td>470702</td>\n",
       "      <td>8523065625</td>\n",
       "      <td>22</td>\n",
       "      <td>6</td>\n",
       "      <td>23</td>\n",
       "      <td>11</td>\n",
       "      <td>2014</td>\n",
       "    </tr>\n",
       "    <tr>\n",
       "      <th>1</th>\n",
       "      <td>1</td>\n",
       "      <td>5.9567</td>\n",
       "      <td>4.7968</td>\n",
       "      <td>13</td>\n",
       "      <td>186555</td>\n",
       "      <td>1757726713</td>\n",
       "      <td>14</td>\n",
       "      <td>5</td>\n",
       "      <td>10</td>\n",
       "      <td>5</td>\n",
       "      <td>2014</td>\n",
       "    </tr>\n",
       "    <tr>\n",
       "      <th>2</th>\n",
       "      <td>2</td>\n",
       "      <td>8.3078</td>\n",
       "      <td>7.0407</td>\n",
       "      <td>74</td>\n",
       "      <td>322648</td>\n",
       "      <td>1137537235</td>\n",
       "      <td>2</td>\n",
       "      <td>2</td>\n",
       "      <td>13</td>\n",
       "      <td>8</td>\n",
       "      <td>2014</td>\n",
       "    </tr>\n",
       "    <tr>\n",
       "      <th>3</th>\n",
       "      <td>3</td>\n",
       "      <td>7.3665</td>\n",
       "      <td>2.5165</td>\n",
       "      <td>65</td>\n",
       "      <td>704587</td>\n",
       "      <td>6567393236</td>\n",
       "      <td>8</td>\n",
       "      <td>1</td>\n",
       "      <td>5</td>\n",
       "      <td>5</td>\n",
       "      <td>2015</td>\n",
       "    </tr>\n",
       "    <tr>\n",
       "      <th>4</th>\n",
       "      <td>4</td>\n",
       "      <td>4.0961</td>\n",
       "      <td>1.1307</td>\n",
       "      <td>31</td>\n",
       "      <td>472130</td>\n",
       "      <td>7440663949</td>\n",
       "      <td>21</td>\n",
       "      <td>0</td>\n",
       "      <td>24</td>\n",
       "      <td>11</td>\n",
       "      <td>2014</td>\n",
       "    </tr>\n",
       "  </tbody>\n",
       "</table>\n",
       "</div>"
      ],
      "text/plain": [
       "   row_id       x       y  accuracy    time    place_id  hour  weekday  day  \\\n",
       "0       0  0.7941  9.0809        54  470702  8523065625    22        6   23   \n",
       "1       1  5.9567  4.7968        13  186555  1757726713    14        5   10   \n",
       "2       2  8.3078  7.0407        74  322648  1137537235     2        2   13   \n",
       "3       3  7.3665  2.5165        65  704587  6567393236     8        1    5   \n",
       "4       4  4.0961  1.1307        31  472130  7440663949    21        0   24   \n",
       "\n",
       "   month  year  \n",
       "0     11  2014  \n",
       "1      5  2014  \n",
       "2      8  2014  \n",
       "3      5  2015  \n",
       "4     11  2014  "
      ]
     },
     "execution_count": 34,
     "metadata": {},
     "output_type": "execute_result"
    }
   ],
   "source": [
    "fb_train['hour'] = d_times.hour \n",
    "fb_train['weekday'] = d_times.weekday\n",
    "fb_train['day'] = d_times.day\n",
    "fb_train['month'] = d_times.month\n",
    "fb_train['year'] = d_times.year\n",
    "fb_train.head()"
   ]
  },
  {
   "cell_type": "code",
   "execution_count": 42,
   "metadata": {
    "collapsed": false
   },
   "outputs": [
    {
     "data": {
      "text/plain": [
       "919064     2245619892\n",
       "459482     3796044378\n",
       "1041226    6155936752\n",
       "36826      7319514019\n",
       "602046     3262035528\n",
       "Name: place_id, dtype: int64"
      ]
     },
     "execution_count": 42,
     "metadata": {},
     "output_type": "execute_result"
    }
   ],
   "source": [
    "X = fb_train.drop(['time'], axis=1)\n",
    "y = fb_train['place_id']\n",
    "X = X.drop(['place_id'], axis = 1)\n",
    "\n",
    "#Test, train, & split by time\n",
    "split_t = 730000\n",
    "X_traintime = fb_train[fb_train.time < split_t]\n",
    "X_testtime = fb_train[fb_train.time >= split_t]\n",
    "y_traintime = fb_train[fb_train.time < split_t]['place_id']\n",
    "y_testtime = fb_train[fb_train.time >= split_t]['place_id']\n",
    "\n",
    "#Simply use test_train_split\n",
    "X_train, X_test, y_train, y_test = train_test_split(X, y, test_size = 0.2)"
   ]
  },
  {
   "cell_type": "code",
   "execution_count": 36,
   "metadata": {
    "collapsed": false
   },
   "outputs": [],
   "source": [
    "#Create our grid\n",
    "x_range = 0.5\n",
    "y_range = 0.25\n",
    "\n",
    "x_weights = 500\n",
    "y_weights = 1000\n",
    "\n",
    "xpoints = np.arange(0,x_weights*10,x_range*x_weights)\n",
    "xpoints = np.append(xpoints,x_weights*10+x_range*x_weights)\n",
    "ypoints = np.arange(0,y_weights*10,y_range*y_weights)\n",
    "ypoints = np.append(ypoints,y_weights*10+y_range)\n",
    "x_grid, y_grid = np.meshgrid(xpoints,ypoints)"
   ]
  },
  {
   "cell_type": "code",
   "execution_count": 37,
   "metadata": {
    "collapsed": true
   },
   "outputs": [],
   "source": [
    "#Train on one grid using normal training set\n",
    "score = 0.0\n",
    "total = 0\n",
    "cumulative_scores = []\n",
    "\n",
    "i = 0\n",
    "j = 0\n",
    "\n",
    "subset = X_train[(X_train['x'] >= x_grid[i][j]) & (X_train['x'] < x_grid[i][j+1]) & \\\n",
    "                     (X_train['y'] >= y_grid[i][j]) & (X_train['y'] < y_grid[i+1][j])]\n",
    "test_subset = X_test[(X_test['x'] >= x_grid[i][j]) & (X_test['x'] < x_grid[i][j+1]) & \\\n",
    "                         (X_test['y'] >= y_grid[i][j]) & (X_test['y'] < y_grid[i+1][j])]"
   ]
  },
  {
   "cell_type": "code",
   "execution_count": 22,
   "metadata": {
    "collapsed": false
   },
   "outputs": [],
   "source": [
    "#Train on one grid using time-based training set\n",
    "time_score = 0.0\n",
    "time_total = 0\n",
    "time_cumulative_scores = []\n",
    "\n",
    "i = 0\n",
    "j = 0\n",
    "\n",
    "time_subset = X_traintime[(X_traintime['x'] >= x_grid[i][j]) & (X_traintime['x'] < x_grid[i][j+1]) & \\\n",
    "                     (X_traintime['y'] >= y_grid[i][j]) & (X_traintime['y'] < y_grid[i+1][j])]\n",
    "time_test_subset = X_testtime[(X_testtime['x'] >= x_grid[i][j]) & (X_testtime['x'] < x_grid[i][j+1]) & \\\n",
    "                         (X_testtime['y'] >= y_grid[i][j]) & (X_testtime['y'] < y_grid[i+1][j])]"
   ]
  },
  {
   "cell_type": "code",
   "execution_count": 23,
   "metadata": {
    "collapsed": false
   },
   "outputs": [
    {
     "data": {
      "text/html": [
       "<div>\n",
       "<table border=\"1\" class=\"dataframe\">\n",
       "  <thead>\n",
       "    <tr style=\"text-align: right;\">\n",
       "      <th></th>\n",
       "      <th>row_id</th>\n",
       "      <th>x</th>\n",
       "      <th>y</th>\n",
       "      <th>accuracy</th>\n",
       "      <th>place_id</th>\n",
       "      <th>hour</th>\n",
       "      <th>weekday</th>\n",
       "      <th>day</th>\n",
       "      <th>month</th>\n",
       "      <th>year</th>\n",
       "    </tr>\n",
       "  </thead>\n",
       "  <tbody>\n",
       "    <tr>\n",
       "      <th>509627</th>\n",
       "      <td>509627</td>\n",
       "      <td>7.0106</td>\n",
       "      <td>3.5791</td>\n",
       "      <td>24</td>\n",
       "      <td>3738210662</td>\n",
       "      <td>11</td>\n",
       "      <td>5</td>\n",
       "      <td>30</td>\n",
       "      <td>8</td>\n",
       "      <td>2014</td>\n",
       "    </tr>\n",
       "    <tr>\n",
       "      <th>715751</th>\n",
       "      <td>715751</td>\n",
       "      <td>1.2889</td>\n",
       "      <td>1.4525</td>\n",
       "      <td>174</td>\n",
       "      <td>5794949078</td>\n",
       "      <td>5</td>\n",
       "      <td>2</td>\n",
       "      <td>7</td>\n",
       "      <td>5</td>\n",
       "      <td>2014</td>\n",
       "    </tr>\n",
       "    <tr>\n",
       "      <th>827053</th>\n",
       "      <td>827053</td>\n",
       "      <td>1.1838</td>\n",
       "      <td>9.1383</td>\n",
       "      <td>74</td>\n",
       "      <td>3159063060</td>\n",
       "      <td>17</td>\n",
       "      <td>3</td>\n",
       "      <td>20</td>\n",
       "      <td>11</td>\n",
       "      <td>2014</td>\n",
       "    </tr>\n",
       "    <tr>\n",
       "      <th>558097</th>\n",
       "      <td>558097</td>\n",
       "      <td>3.8045</td>\n",
       "      <td>3.1392</td>\n",
       "      <td>2</td>\n",
       "      <td>1732178359</td>\n",
       "      <td>0</td>\n",
       "      <td>0</td>\n",
       "      <td>3</td>\n",
       "      <td>3</td>\n",
       "      <td>2014</td>\n",
       "    </tr>\n",
       "    <tr>\n",
       "      <th>806602</th>\n",
       "      <td>806602</td>\n",
       "      <td>4.6573</td>\n",
       "      <td>0.9407</td>\n",
       "      <td>61</td>\n",
       "      <td>9932689980</td>\n",
       "      <td>15</td>\n",
       "      <td>1</td>\n",
       "      <td>21</td>\n",
       "      <td>10</td>\n",
       "      <td>2014</td>\n",
       "    </tr>\n",
       "  </tbody>\n",
       "</table>\n",
       "</div>"
      ],
      "text/plain": [
       "        row_id       x       y  accuracy    place_id  hour  weekday  day  \\\n",
       "509627  509627  7.0106  3.5791        24  3738210662    11        5   30   \n",
       "715751  715751  1.2889  1.4525       174  5794949078     5        2    7   \n",
       "827053  827053  1.1838  9.1383        74  3159063060    17        3   20   \n",
       "558097  558097  3.8045  3.1392         2  1732178359     0        0    3   \n",
       "806602  806602  4.6573  0.9407        61  9932689980    15        1   21   \n",
       "\n",
       "        month  year  \n",
       "509627      8  2014  \n",
       "715751      5  2014  \n",
       "827053     11  2014  \n",
       "558097      3  2014  \n",
       "806602     10  2014  "
      ]
     },
     "execution_count": 23,
     "metadata": {},
     "output_type": "execute_result"
    }
   ],
   "source": [
    "X_train.head()"
   ]
  },
  {
   "cell_type": "code",
   "execution_count": 21,
   "metadata": {
    "collapsed": true
   },
   "outputs": [],
   "source": [
    "def cv_stats(cv_score):\n",
    "    \"\"\" \n",
    "    Takes in the output of cross_val_score\n",
    "    Returns the mean and standard deviation in a readable format\n",
    "    \"\"\"\n",
    "    mean = np.mean(cv_score)\n",
    "    std = np.std(cv_score)\n",
    "    return mean, std"
   ]
  },
  {
   "cell_type": "markdown",
   "metadata": {},
   "source": [
    "# K Nearest Neighbors Model"
   ]
  },
  {
   "cell_type": "code",
   "execution_count": null,
   "metadata": {
    "collapsed": false
   },
   "outputs": [],
   "source": [
    "clf = KNN(n_neighbors = 50)\n",
    "clf.fit(X_train, y_train)\n",
    "all_predictions = clf.predict_proba(X_test)\n",
    "\n",
    "all_predictions.shape"
   ]
  },
  {
   "cell_type": "code",
   "execution_count": null,
   "metadata": {
    "collapsed": true
   },
   "outputs": [],
   "source": [
    "#Test on time-based training set\n",
    "\n",
    "clf.fit(X_traintime, y_traintime)\n",
    "all_time_predictions = clf.predict_proba(X_testtime)\n"
   ]
  },
  {
   "cell_type": "markdown",
   "metadata": {},
   "source": [
    "# Linear Regression Model\n"
   ]
  },
  {
   "cell_type": "code",
   "execution_count": null,
   "metadata": {
    "collapsed": true
   },
   "outputs": [],
   "source": [
    "# Initialize linear regression\n",
    "clf = linear_model.LinearRegression()\n",
    "clf.fit(X_train, y_train)\n"
   ]
  },
  {
   "cell_type": "code",
   "execution_count": null,
   "metadata": {
    "collapsed": true
   },
   "outputs": [],
   "source": [
    "#Score Linear Regression based on normal training set\n",
    "\n",
    "train_r1 = clf.score(X_train, y_train) # fill out linreg\n",
    "test_r1 = clf.score(X_test, y_test)# fill out linreg\n",
    "\n",
    "print(\"Train accuracy : \", train_r1)\n",
    "print(\"Test accuracy : \", test_r1)"
   ]
  },
  {
   "cell_type": "code",
   "execution_count": null,
   "metadata": {
    "collapsed": true
   },
   "outputs": [],
   "source": [
    "y_pred = clf.predict(X_test) # predict on test set\n",
    "\n",
    "fig, ax = plt.subplots()\n",
    "ax.scatter(y_test, y_pred)\n",
    "ax.plot([y.min(), y.max()], [y.min(), y.max()], 'r--', lw=4)\n",
    "ax.set_xlabel('Test')\n",
    "ax.set_ylabel('Predicted')\n",
    "plt.title('Comparison of Actual vs Predicted Values')\n",
    "plt.show()"
   ]
  },
  {
   "cell_type": "markdown",
   "metadata": {},
   "source": [
    "#Logistic Regression Model\n"
   ]
  },
  {
   "cell_type": "code",
   "execution_count": null,
   "metadata": {
    "collapsed": true
   },
   "outputs": [],
   "source": [
    "# iterate through a range of penalty values and evaluate how well LogisticRegression does on average\n",
    "penalty = 0.001\n",
    "while penalty <= 10:\n",
    "    clf = LogisticRegression(C = penalty)\n",
    "    score = cross_val_score(clf, X_train, y_train, cv = 5)\n",
    "    stats = cv_stats(score)\n",
    "    print(\"For penalty={0}\", penalty, \"; Average={0}, STDEV={1}\".format(*stats))\n",
    "    penalty *= 10\n",
    "    \n",
    "# initialize and fit logistic regression\n",
    "clf = linear_model.LogisticRegression()\n",
    "clf.fit(X_train, y_train)"
   ]
  },
  {
   "cell_type": "code",
   "execution_count": null,
   "metadata": {
    "collapsed": true
   },
   "outputs": [],
   "source": [
    "train_r2 = clf.score(X_train, y_train) # score Logistic Regression on training set\n",
    "test_r2 = clf.score(X_test, y_test) # score Logistic Regression on test set\n",
    "\n",
    "\n",
    "print(\"Train accuracy : \", train_r2)\n",
    "print(\"Test accuracy : \", test_r2)"
   ]
  },
  {
   "cell_type": "markdown",
   "metadata": {},
   "source": [
    "# Ridge Regression Model\n"
   ]
  },
  {
   "cell_type": "code",
   "execution_count": null,
   "metadata": {
    "collapsed": false
   },
   "outputs": [],
   "source": [
    "# iterate through a range of penalty values and evaluate how well RidgeClassifier does on average\n",
    "penalty = 0.01\n",
    "while penalty < 10:\n",
    "    clf = RidgeClassifier(alpha = penalty)\n",
    "    score = cross_val_score(clf, X_train, y_train, cv = 5)\n",
    "    stats = cv_stats(score)\n",
    "    print(\"For penalty = \", penalty, \"Average, std = \", stats)\n",
    "    penalty *= 10"
   ]
  },
  {
   "cell_type": "markdown",
   "metadata": {},
   "source": [
    "# Best Model\n",
    "## K Nearest Neighbors"
   ]
  },
  {
   "cell_type": "code",
   "execution_count": null,
   "metadata": {
    "collapsed": false
   },
   "outputs": [],
   "source": [
    "# initialize KNN here\n",
    "clf = KNN(40)\n",
    "clf.fit(X_train, y_train)\n",
    "\n",
    "train_acc = clf.score(X_train, y_train) # score KNN on train set\n",
    "test_acc = clf.score(X_test, y_test) # score KNN on test set\n",
    "\n",
    "\n",
    "print(\"Train accuracy : \", train_acc)\n",
    "print(\"Test accuracy : \", test_acc)"
   ]
  },
  {
   "cell_type": "code",
   "execution_count": null,
   "metadata": {
    "collapsed": true
   },
   "outputs": [],
   "source": []
  }
 ],
 "metadata": {
  "kernelspec": {
   "display_name": "Python 3",
   "language": "python",
   "name": "python3"
  },
  "language_info": {
   "codemirror_mode": {
    "name": "ipython",
    "version": 3
   },
   "file_extension": ".py",
   "mimetype": "text/x-python",
   "name": "python",
   "nbconvert_exporter": "python",
   "pygments_lexer": "ipython3",
   "version": "3.4.4"
  }
 },
 "nbformat": 4,
 "nbformat_minor": 0
}
