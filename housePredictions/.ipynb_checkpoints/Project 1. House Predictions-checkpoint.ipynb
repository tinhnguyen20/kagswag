{
 "cells": [
  {
   "cell_type": "markdown",
   "metadata": {},
   "source": [
    "# House Predictions\n",
    "\n",
    "### Group: , Tinh Nguyen"
   ]
  },
  {
   "cell_type": "code",
   "execution_count": 41,
   "metadata": {
    "collapsed": true
   },
   "outputs": [],
   "source": [
    "%matplotlib inline\n",
    "import re\n",
    "import pandas as pd\n",
    "import numpy as np\n",
    "import seaborn as sns\n",
    "import matplotlib\n",
    "import matplotlib.pyplot as plt\n",
    "import statsmodels.api as sm\n",
    "from pandas import DataFrame, Series\n",
    "from sklearn.cross_validation import train_test_split"
   ]
  },
  {
   "cell_type": "code",
   "execution_count": 42,
   "metadata": {
    "collapsed": true
   },
   "outputs": [],
   "source": [
    "df = pd.read_csv('train.csv')\n",
    "ts = pd.read_csv('test.csv')"
   ]
  },
  {
   "cell_type": "markdown",
   "metadata": {},
   "source": [
    "A few resources:\n",
    "     - (sklearn lin. models) http://scikit-learn.org/stable/modules/linear_model.html \n",
    "     - (ex. script) https://www.kaggle.com/apapiu/house-prices-advanced-regression-techniques/regularized-linear-models"
   ]
  },
  {
   "cell_type": "markdown",
   "metadata": {},
   "source": [
    "# Data Visualization and Exploration\n",
    "\n",
    "## Data Clean-up\n",
    " - Deal with null values\n",
    " - Deal with linearly dependent columns/features\n",
    " - Look at PoolQC, MiscFeature\n",
    " \n",
    "## Feature building/extraction\n",
    " - Parse and give numerical values to str. values. (ex. Utilities, LotShape, SaleCondition)\n",
    " "
   ]
  },
  {
   "cell_type": "code",
   "execution_count": 43,
   "metadata": {
    "collapsed": false
   },
   "outputs": [
    {
     "data": {
      "text/html": [
       "<div>\n",
       "<table border=\"1\" class=\"dataframe\">\n",
       "  <thead>\n",
       "    <tr style=\"text-align: right;\">\n",
       "      <th></th>\n",
       "      <th>Id</th>\n",
       "      <th>MSSubClass</th>\n",
       "      <th>MSZoning</th>\n",
       "      <th>LotFrontage</th>\n",
       "      <th>LotArea</th>\n",
       "      <th>Street</th>\n",
       "      <th>Alley</th>\n",
       "      <th>LotShape</th>\n",
       "      <th>LandContour</th>\n",
       "      <th>Utilities</th>\n",
       "      <th>...</th>\n",
       "      <th>PoolArea</th>\n",
       "      <th>PoolQC</th>\n",
       "      <th>Fence</th>\n",
       "      <th>MiscFeature</th>\n",
       "      <th>MiscVal</th>\n",
       "      <th>MoSold</th>\n",
       "      <th>YrSold</th>\n",
       "      <th>SaleType</th>\n",
       "      <th>SaleCondition</th>\n",
       "      <th>SalePrice</th>\n",
       "    </tr>\n",
       "  </thead>\n",
       "  <tbody>\n",
       "    <tr>\n",
       "      <th>0</th>\n",
       "      <td>1</td>\n",
       "      <td>60</td>\n",
       "      <td>RL</td>\n",
       "      <td>65.0</td>\n",
       "      <td>8450</td>\n",
       "      <td>Pave</td>\n",
       "      <td>NaN</td>\n",
       "      <td>Reg</td>\n",
       "      <td>Lvl</td>\n",
       "      <td>AllPub</td>\n",
       "      <td>...</td>\n",
       "      <td>0</td>\n",
       "      <td>NaN</td>\n",
       "      <td>NaN</td>\n",
       "      <td>NaN</td>\n",
       "      <td>0</td>\n",
       "      <td>2</td>\n",
       "      <td>2008</td>\n",
       "      <td>WD</td>\n",
       "      <td>Normal</td>\n",
       "      <td>208500</td>\n",
       "    </tr>\n",
       "    <tr>\n",
       "      <th>1</th>\n",
       "      <td>2</td>\n",
       "      <td>20</td>\n",
       "      <td>RL</td>\n",
       "      <td>80.0</td>\n",
       "      <td>9600</td>\n",
       "      <td>Pave</td>\n",
       "      <td>NaN</td>\n",
       "      <td>Reg</td>\n",
       "      <td>Lvl</td>\n",
       "      <td>AllPub</td>\n",
       "      <td>...</td>\n",
       "      <td>0</td>\n",
       "      <td>NaN</td>\n",
       "      <td>NaN</td>\n",
       "      <td>NaN</td>\n",
       "      <td>0</td>\n",
       "      <td>5</td>\n",
       "      <td>2007</td>\n",
       "      <td>WD</td>\n",
       "      <td>Normal</td>\n",
       "      <td>181500</td>\n",
       "    </tr>\n",
       "    <tr>\n",
       "      <th>2</th>\n",
       "      <td>3</td>\n",
       "      <td>60</td>\n",
       "      <td>RL</td>\n",
       "      <td>68.0</td>\n",
       "      <td>11250</td>\n",
       "      <td>Pave</td>\n",
       "      <td>NaN</td>\n",
       "      <td>IR1</td>\n",
       "      <td>Lvl</td>\n",
       "      <td>AllPub</td>\n",
       "      <td>...</td>\n",
       "      <td>0</td>\n",
       "      <td>NaN</td>\n",
       "      <td>NaN</td>\n",
       "      <td>NaN</td>\n",
       "      <td>0</td>\n",
       "      <td>9</td>\n",
       "      <td>2008</td>\n",
       "      <td>WD</td>\n",
       "      <td>Normal</td>\n",
       "      <td>223500</td>\n",
       "    </tr>\n",
       "    <tr>\n",
       "      <th>3</th>\n",
       "      <td>4</td>\n",
       "      <td>70</td>\n",
       "      <td>RL</td>\n",
       "      <td>60.0</td>\n",
       "      <td>9550</td>\n",
       "      <td>Pave</td>\n",
       "      <td>NaN</td>\n",
       "      <td>IR1</td>\n",
       "      <td>Lvl</td>\n",
       "      <td>AllPub</td>\n",
       "      <td>...</td>\n",
       "      <td>0</td>\n",
       "      <td>NaN</td>\n",
       "      <td>NaN</td>\n",
       "      <td>NaN</td>\n",
       "      <td>0</td>\n",
       "      <td>2</td>\n",
       "      <td>2006</td>\n",
       "      <td>WD</td>\n",
       "      <td>Abnorml</td>\n",
       "      <td>140000</td>\n",
       "    </tr>\n",
       "    <tr>\n",
       "      <th>4</th>\n",
       "      <td>5</td>\n",
       "      <td>60</td>\n",
       "      <td>RL</td>\n",
       "      <td>84.0</td>\n",
       "      <td>14260</td>\n",
       "      <td>Pave</td>\n",
       "      <td>NaN</td>\n",
       "      <td>IR1</td>\n",
       "      <td>Lvl</td>\n",
       "      <td>AllPub</td>\n",
       "      <td>...</td>\n",
       "      <td>0</td>\n",
       "      <td>NaN</td>\n",
       "      <td>NaN</td>\n",
       "      <td>NaN</td>\n",
       "      <td>0</td>\n",
       "      <td>12</td>\n",
       "      <td>2008</td>\n",
       "      <td>WD</td>\n",
       "      <td>Normal</td>\n",
       "      <td>250000</td>\n",
       "    </tr>\n",
       "  </tbody>\n",
       "</table>\n",
       "<p>5 rows × 81 columns</p>\n",
       "</div>"
      ],
      "text/plain": [
       "   Id  MSSubClass MSZoning  LotFrontage  LotArea Street Alley LotShape  \\\n",
       "0   1          60       RL         65.0     8450   Pave   NaN      Reg   \n",
       "1   2          20       RL         80.0     9600   Pave   NaN      Reg   \n",
       "2   3          60       RL         68.0    11250   Pave   NaN      IR1   \n",
       "3   4          70       RL         60.0     9550   Pave   NaN      IR1   \n",
       "4   5          60       RL         84.0    14260   Pave   NaN      IR1   \n",
       "\n",
       "  LandContour Utilities    ...     PoolArea PoolQC Fence MiscFeature MiscVal  \\\n",
       "0         Lvl    AllPub    ...            0    NaN   NaN         NaN       0   \n",
       "1         Lvl    AllPub    ...            0    NaN   NaN         NaN       0   \n",
       "2         Lvl    AllPub    ...            0    NaN   NaN         NaN       0   \n",
       "3         Lvl    AllPub    ...            0    NaN   NaN         NaN       0   \n",
       "4         Lvl    AllPub    ...            0    NaN   NaN         NaN       0   \n",
       "\n",
       "  MoSold YrSold  SaleType  SaleCondition  SalePrice  \n",
       "0      2   2008        WD         Normal     208500  \n",
       "1      5   2007        WD         Normal     181500  \n",
       "2      9   2008        WD         Normal     223500  \n",
       "3      2   2006        WD        Abnorml     140000  \n",
       "4     12   2008        WD         Normal     250000  \n",
       "\n",
       "[5 rows x 81 columns]"
      ]
     },
     "execution_count": 43,
     "metadata": {},
     "output_type": "execute_result"
    }
   ],
   "source": [
    "df.head()"
   ]
  },
  {
   "cell_type": "code",
   "execution_count": 44,
   "metadata": {
    "collapsed": false
   },
   "outputs": [
    {
     "data": {
      "text/plain": [
       "Id                  0\n",
       "MSSubClass          0\n",
       "MSZoning            0\n",
       "LotFrontage       259\n",
       "LotArea             0\n",
       "Street              0\n",
       "Alley            1369\n",
       "LotShape            0\n",
       "LandContour         0\n",
       "Utilities           0\n",
       "LotConfig           0\n",
       "LandSlope           0\n",
       "Neighborhood        0\n",
       "Condition1          0\n",
       "Condition2          0\n",
       "BldgType            0\n",
       "HouseStyle          0\n",
       "OverallQual         0\n",
       "OverallCond         0\n",
       "YearBuilt           0\n",
       "YearRemodAdd        0\n",
       "RoofStyle           0\n",
       "RoofMatl            0\n",
       "Exterior1st         0\n",
       "Exterior2nd         0\n",
       "MasVnrType          8\n",
       "MasVnrArea          8\n",
       "ExterQual           0\n",
       "ExterCond           0\n",
       "Foundation          0\n",
       "                 ... \n",
       "BedroomAbvGr        0\n",
       "KitchenAbvGr        0\n",
       "KitchenQual         0\n",
       "TotRmsAbvGrd        0\n",
       "Functional          0\n",
       "Fireplaces          0\n",
       "FireplaceQu       690\n",
       "GarageType         81\n",
       "GarageYrBlt        81\n",
       "GarageFinish       81\n",
       "GarageCars          0\n",
       "GarageArea          0\n",
       "GarageQual         81\n",
       "GarageCond         81\n",
       "PavedDrive          0\n",
       "WoodDeckSF          0\n",
       "OpenPorchSF         0\n",
       "EnclosedPorch       0\n",
       "3SsnPorch           0\n",
       "ScreenPorch         0\n",
       "PoolArea            0\n",
       "PoolQC           1453\n",
       "Fence            1179\n",
       "MiscFeature      1406\n",
       "MiscVal             0\n",
       "MoSold              0\n",
       "YrSold              0\n",
       "SaleType            0\n",
       "SaleCondition       0\n",
       "SalePrice           0\n",
       "dtype: int64"
      ]
     },
     "execution_count": 44,
     "metadata": {},
     "output_type": "execute_result"
    }
   ],
   "source": [
    "df.dtypes\n",
    "#Counts missing values for each column (may want to omit these columns if they are not useful)\n",
    "df.isnull().sum() "
   ]
  },
  {
   "cell_type": "code",
   "execution_count": 127,
   "metadata": {
    "collapsed": false
   },
   "outputs": [
    {
     "name": "stdout",
     "output_type": "stream",
     "text": [
      "0\n",
      "0\n",
      "0\n",
      "0\n"
     ]
    }
   ],
   "source": [
    "# Let's construct a new feature, How big is each room?\n",
    "\n",
    "print(df['GrLivArea'].isnull().sum())\n",
    "print(df['BedroomAbvGr'].isnull().sum())\n",
    "print(df['FullBath'].isnull().sum())\n",
    "print(df['HalfBath'].isnull().sum())\n",
    "\n",
    "average_room_size = (df['GrLivArea']).divide((df['TotRmsAbvGrd']))\n",
    "df['AvgRoomSize'] = average_room_size"
   ]
  },
  {
   "cell_type": "code",
   "execution_count": 105,
   "metadata": {
    "collapsed": false
   },
   "outputs": [
    {
     "data": {
      "text/plain": [
       "count    1460.000000\n",
       "mean        6.517808\n",
       "std         1.625393\n",
       "min         2.000000\n",
       "25%         5.000000\n",
       "50%         6.000000\n",
       "75%         7.000000\n",
       "max        14.000000\n",
       "Name: TotRmsAbvGrd, dtype: float64"
      ]
     },
     "execution_count": 105,
     "metadata": {},
     "output_type": "execute_result"
    }
   ],
   "source": [
    "df['TotRmsAbvGrd'].describe()"
   ]
  },
  {
   "cell_type": "code",
   "execution_count": 106,
   "metadata": {
    "collapsed": false
   },
   "outputs": [],
   "source": [
    "house_y = df['SalePrice'] # our training \"labels\"\n",
    "house_x = df.drop('SalePrice', axis=1).drop('Id', axis=1) # training data, without labels, id"
   ]
  },
  {
   "cell_type": "markdown",
   "metadata": {},
   "source": [
    "### Dealing With Null values\n",
    "\n",
    "Currently house_x contains all the original columns except for  (Id, Salesprice). We need to devise a plan to deal with Null values in our dataset (omit them, or give them meaning).\n",
    "\n",
    "For example: \n",
    " - PoolQC (Pool Quality Control), has a lot of null values but NA is the choice for 'no pool'\n",
    " - Alley (type of alley access from property), might (not?) be a useful feature for house predictions\n",
    " - MiscVal, corresponds with MiscFeature (value of the misc. feature)\n",
    "\n",
    "\n",
    "\n"
   ]
  },
  {
   "cell_type": "code",
   "execution_count": 107,
   "metadata": {
    "collapsed": false
   },
   "outputs": [],
   "source": [
    "# Let's first fix LotFrontage: Linear feet of street connected to property\n",
    "df['LotFrontage'] = df['LotFrontage'].fillna(value=0)\n",
    "df['PoolQC'] = df['PoolQC'].fillna(value='missing')\n",
    "df['Fence'] = df['Fence'].fillna(value='missing')\n",
    "df['MasVnrArea'] = df['MasVnrArea'].fillna(value=0)"
   ]
  },
  {
   "cell_type": "markdown",
   "metadata": {},
   "source": [
    "### Dealing with Categorical Data\n",
    "\n",
    "To deal with categorical data, PoolQC, we can use the one-hot encoding schema."
   ]
  },
  {
   "cell_type": "code",
   "execution_count": 108,
   "metadata": {
    "collapsed": false
   },
   "outputs": [
    {
     "data": {
      "image/png": "[encoded data removed]",
      "text/plain": [
       "<matplotlib.figure.Figure at 0x11cfd8ac8>"
      ]
     },
     "metadata": {},
     "output_type": "display_data"
    },
    {
     "data": {
      "image/png": "[encoded data removed]",
      "text/plain": [
       "<matplotlib.figure.Figure at 0x11cffc0b8>"
      ]
     },
     "metadata": {},
     "output_type": "display_data"
    },
    {
     "data": {
      "image/png": "[encoded data removed]",
      "text/plain": [
       "<matplotlib.figure.Figure at 0x11e98b668>"
      ]
     },
     "metadata": {},
     "output_type": "display_data"
    },
    {
     "data": {
      "image/png": "[encoded data removed]",
      "text/plain": [
       "<matplotlib.figure.Figure at 0x11c6feb70>"
      ]
     },
     "metadata": {},
     "output_type": "display_data"
    }
   ],
   "source": [
    "# Let's analyze the relationship between Neighborhood and SalePrice\n",
    "plt.figure(figsize = (12, 6))\n",
    "sns.boxplot(x = 'Neighborhood', y = 'SalePrice',  data = df)\n",
    "xt = plt.xticks(rotation=45)\n",
    "\n",
    "# Box plot of certain column\n",
    "\n",
    "plt.figure(figsize = (12, 6))\n",
    "sns.boxplot(x = 'SaleCondition', y = 'SalePrice',  data = df)\n",
    "xt = plt.xticks(rotation=45)\n",
    "\n",
    "\n",
    "plt.figure(figsize = (12, 6))\n",
    "sns.boxplot(x = 'MSSubClass', y = 'SalePrice',  data = df)\n",
    "xt = plt.xticks(rotation=45)\n",
    "\n",
    "plt.figure(figsize = (12, 6))\n",
    "sns.boxplot(x = 'MSZoning', y = 'SalePrice',  data = df)\n",
    "xt = plt.xticks(rotation=45)\n",
    "\n"
   ]
  },
  {
   "cell_type": "code",
   "execution_count": 109,
   "metadata": {
    "collapsed": false
   },
   "outputs": [
    {
     "data": {
      "image/png": "[encoded data removed]",
      "text/plain": [
       "<matplotlib.figure.Figure at 0x11cfe0cc0>"
      ]
     },
     "metadata": {},
     "output_type": "display_data"
    },
    {
     "data": {
      "image/png": "[encoded data removed]",
      "text/plain": [
       "<matplotlib.figure.Figure at 0x11e19bd30>"
      ]
     },
     "metadata": {},
     "output_type": "display_data"
    },
    {
     "data": {
      "image/png": "[encoded data removed]",
      "text/plain": [
       "<matplotlib.figure.Figure at 0x11e6ab2b0>"
      ]
     },
     "metadata": {},
     "output_type": "display_data"
    }
   ],
   "source": [
    "plt.figure(figsize = (12, 6))\n",
    "sns.boxplot(x = 'Heating', y = 'SalePrice',  data = df)\n",
    "xt = plt.xticks(rotation=45)\n",
    "\n",
    "plt.figure(figsize = (12, 6))\n",
    "sns.boxplot(x = 'HeatingQC', y = 'SalePrice',  data = df)\n",
    "xt = plt.xticks(rotation=45)\n",
    "\n",
    "plt.figure(figsize = (12, 6))\n",
    "sns.boxplot(x = 'Utilities', y = 'SalePrice',  data = df)\n",
    "xt = plt.xticks(rotation=45)"
   ]
  },
  {
   "cell_type": "markdown",
   "metadata": {},
   "source": [
    "From the looks of our box plots. MSZoning tells us that Floating Village Residential(FV) and Residential Low Density housing is generally more expensive. Thus, we'll decide to add this feature and hopefully it'll tell us something about sales price.\n",
    "\n",
    "The HeatingQC also seems to be a large factor in sales price. Excellent heating quality generally obtains the highest sales price."
   ]
  },
  {
   "cell_type": "code",
   "execution_count": 110,
   "metadata": {
    "collapsed": false
   },
   "outputs": [
    {
     "data": {
      "text/plain": [
       "count       1460\n",
       "unique         2\n",
       "top       AllPub\n",
       "freq        1459\n",
       "Name: Utilities, dtype: object"
      ]
     },
     "execution_count": 110,
     "metadata": {},
     "output_type": "execute_result"
    }
   ],
   "source": [
    "df['Utilities'].describe()"
   ]
  },
  {
   "cell_type": "code",
   "execution_count": 111,
   "metadata": {
    "collapsed": false
   },
   "outputs": [
    {
     "data": {
      "text/plain": [
       "Fence         \n",
       "GdPrv    count        59.000000\n",
       "         mean     178927.457627\n",
       "         std       56757.237563\n",
       "         min      108000.000000\n",
       "         25%      144950.000000\n",
       "         50%      167500.000000\n",
       "         75%      189475.000000\n",
       "         max      475000.000000\n",
       "GdWo     count        54.000000\n",
       "         mean     140379.314815\n",
       "         std       53592.585059\n",
       "         min       34900.000000\n",
       "         25%      118625.000000\n",
       "         50%      138750.000000\n",
       "         75%      151750.000000\n",
       "         max      381000.000000\n",
       "MnPrv    count       157.000000\n",
       "         mean     148751.089172\n",
       "         std       66096.069463\n",
       "         min       40000.000000\n",
       "         25%      119900.000000\n",
       "         50%      137450.000000\n",
       "         75%      158000.000000\n",
       "         max      745000.000000\n",
       "MnWw     count        11.000000\n",
       "         mean     134286.363636\n",
       "         std       21781.805376\n",
       "         min      110000.000000\n",
       "         25%      121500.000000\n",
       "         50%      130000.000000\n",
       "         75%      143000.000000\n",
       "         max      187000.000000\n",
       "missing  count      1179.000000\n",
       "         mean     187596.837998\n",
       "         std       81656.497075\n",
       "         min       35311.000000\n",
       "         25%      132750.000000\n",
       "         50%      173000.000000\n",
       "         75%      224700.000000\n",
       "         max      755000.000000\n",
       "Name: SalePrice, dtype: float64"
      ]
     },
     "execution_count": 111,
     "metadata": {},
     "output_type": "execute_result"
    }
   ],
   "source": [
    "df.groupby('Fence')['SalePrice'].describe()"
   ]
  },
  {
   "cell_type": "code",
   "execution_count": 112,
   "metadata": {
    "collapsed": false
   },
   "outputs": [
    {
     "data": {
      "text/plain": [
       "NoFence       \n",
       "False    count       281.000000\n",
       "         mean     152912.007117\n",
       "         std       62113.736323\n",
       "         min       34900.000000\n",
       "         25%      123000.000000\n",
       "         50%      141500.000000\n",
       "         75%      166000.000000\n",
       "         max      745000.000000\n",
       "True     count      1179.000000\n",
       "         mean     187596.837998\n",
       "         std       81656.497075\n",
       "         min       35311.000000\n",
       "         25%      132750.000000\n",
       "         50%      173000.000000\n",
       "         75%      224700.000000\n",
       "         max      755000.000000\n",
       "Name: SalePrice, dtype: float64"
      ]
     },
     "execution_count": 112,
     "metadata": {},
     "output_type": "execute_result"
    }
   ],
   "source": [
    "## Looks like fences don't make a difference. Let's try has fence\n",
    "noFence = df['Fence'] == 'missing'\n",
    "df['NoFence'] = noFence\n",
    "df.head()\n",
    "#temp_with_no_Fence.groupby('noFence')\n",
    "df.groupby('NoFence')['SalePrice'].describe()"
   ]
  },
  {
   "cell_type": "markdown",
   "metadata": {},
   "source": [
    "From this, we can see that there isn't much of a difference if you have a fence or not. "
   ]
  },
  {
   "cell_type": "code",
   "execution_count": 128,
   "metadata": {
    "collapsed": false
   },
   "outputs": [
    {
     "data": {
      "text/plain": [
       "array(['Id', 'MSSubClass', 'LotFrontage', 'LotArea', 'Street', 'Alley',\n",
       "       'LotShape', 'LandContour', 'Utilities', 'LotConfig', 'LandSlope',\n",
       "       'Condition1', 'Condition2', 'BldgType', 'HouseStyle', 'OverallQual',\n",
       "       'OverallCond', 'YearBuilt', 'YearRemodAdd', 'RoofStyle', 'RoofMatl',\n",
       "       'Exterior1st', 'Exterior2nd', 'MasVnrType', 'MasVnrArea',\n",
       "       'ExterCond', 'Foundation', 'BsmtQual', 'BsmtCond', 'BsmtExposure',\n",
       "       'BsmtFinType1', 'BsmtFinSF1', 'BsmtFinType2', 'BsmtFinSF2',\n",
       "       'BsmtUnfSF', 'TotalBsmtSF', 'Heating', 'CentralAir', 'Electrical',\n",
       "       '1stFlrSF', '2ndFlrSF', 'LowQualFinSF', 'GrLivArea', 'BsmtFullBath',\n",
       "       'BsmtHalfBath', 'FullBath', 'HalfBath', 'BedroomAbvGr',\n",
       "       'KitchenAbvGr', 'KitchenQual', 'TotRmsAbvGrd', 'Functional',\n",
       "       'Fireplaces', 'FireplaceQu', 'GarageType', 'GarageYrBlt',\n",
       "       'GarageFinish', 'GarageCars', 'GarageArea', 'GarageQual',\n",
       "       'GarageCond', 'PavedDrive', 'WoodDeckSF', 'OpenPorchSF',\n",
       "       'EnclosedPorch', '3SsnPorch', 'ScreenPorch', 'PoolArea', 'Fence',\n",
       "       'MiscFeature', 'MiscVal', 'MoSold', 'YrSold', 'SaleType',\n",
       "       'SaleCondition', 'SalePrice', 'NoFence', 'AvgRoomSize', 'PoolQC_Fa',\n",
       "       'PoolQC_Gd', 'PoolQC_missing', 'Neighborhood_Blueste',\n",
       "       'Neighborhood_BrDale', 'Neighborhood_BrkSide',\n",
       "       'Neighborhood_ClearCr', 'Neighborhood_CollgCr',\n",
       "       'Neighborhood_Crawfor', 'Neighborhood_Edwards',\n",
       "       'Neighborhood_Gilbert', 'Neighborhood_IDOTRR',\n",
       "       'Neighborhood_MeadowV', 'Neighborhood_Mitchel',\n",
       "       'Neighborhood_NAmes', 'Neighborhood_NPkVill', 'Neighborhood_NWAmes',\n",
       "       'Neighborhood_NoRidge', 'Neighborhood_NridgHt',\n",
       "       'Neighborhood_OldTown', 'Neighborhood_SWISU', 'Neighborhood_Sawyer',\n",
       "       'Neighborhood_SawyerW', 'Neighborhood_Somerst',\n",
       "       'Neighborhood_StoneBr', 'Neighborhood_Timber',\n",
       "       'Neighborhood_Veenker', 'MSZoning_FV', 'MSZoning_RH', 'MSZoning_RL',\n",
       "       'MSZoning_RM', 'HeatingQC_Fa', 'HeatingQC_Gd', 'HeatingQC_Po',\n",
       "       'HeatingQC_TA', 'ExterQual_Fa', 'ExterQual_Gd', 'ExterQual_TA'], dtype=object)"
      ]
     },
     "execution_count": 128,
     "metadata": {},
     "output_type": "execute_result"
    }
   ],
   "source": [
    "#house_x = pd.get_dummies(house_x,columns=['PoolQC'],drop_first=True)\n",
    "house = pd.get_dummies(df, columns=['PoolQC', 'Neighborhood', 'MSZoning', 'HeatingQC', 'ExterQual'], drop_first=True)\n",
    "house.columns.values"
   ]
  },
  {
   "cell_type": "markdown",
   "metadata": {},
   "source": []
  },
  {
   "cell_type": "code",
   "execution_count": 129,
   "metadata": {
    "collapsed": false
   },
   "outputs": [
    {
     "name": "stdout",
     "output_type": "stream",
     "text": [
      "Median salePrice:  163000.0\n"
     ]
    },
    {
     "data": {
      "text/plain": [
       "(array([  22.,  126.,  380.,  343.,  229.,  144.,   86.,   49.,   28.,\n",
       "          23.,   12.,    7.,    3.,    1.,    2.,    1.,    2.,    0.,\n",
       "           0.,    2.]),\n",
       " array([  34900.,   70905.,  106910.,  142915.,  178920.,  214925.,\n",
       "         250930.,  286935.,  322940.,  358945.,  394950.,  430955.,\n",
       "         466960.,  502965.,  538970.,  574975.,  610980.,  646985.,\n",
       "         682990.,  718995.,  755000.]),\n",
       " <a list of 20 Patch objects>)"
      ]
     },
     "execution_count": 129,
     "metadata": {},
     "output_type": "execute_result"
    },
    {
     "data": {
      "image/png": "[encoded data removed]",
      "text/plain": [
       "<matplotlib.figure.Figure at 0x11e66df60>"
      ]
     },
     "metadata": {},
     "output_type": "display_data"
    }
   ],
   "source": [
    "\n",
    "print('Median salePrice: ', house['SalePrice'].median(axis=0))\n",
    "plt.hist(house['SalePrice'], bins=20)\n"
   ]
  },
  {
   "cell_type": "code",
   "execution_count": 162,
   "metadata": {
    "collapsed": false
   },
   "outputs": [],
   "source": [
    "# grabs all the desired neighborhoods\n",
    "\n",
    "neighborhood_pattern = '(Neighborhood_.*)'\n",
    "ms_pattern = '(MSZoning_.*)'\n",
    "pqc_pattern = '(PoolQC_.*)'\n",
    "heatingqc_pattern = '(HeatingQC_.*)'\n",
    "\n",
    "desired_columns = []\n",
    "for col_name in house.columns.values:\n",
    "    if re.match(neighborhood_pattern, col_name):\n",
    "        desired_columns.append(col_name)\n",
    "    elif re.match(ms_pattern, col_name):\n",
    "        desired_columns.append(col_name)\n",
    "    elif re.match(pqc_pattern, col_name):\n",
    "        desired_columns.append(col_name)\n",
    "    elif re.match(heatingqc_pattern, col_name):\n",
    "        desired_columns.append(col_name)\n",
    "desired_columns += [\"OverallQual\", \n",
    "                        \"GrLivArea\", \n",
    "                        \"GarageCars\", \n",
    "                        \"GarageArea\", \n",
    "                        \"1stFlrSF\", \n",
    "                        \"TotalBsmtSF\", \n",
    "                        \"TotRmsAbvGrd\",\n",
    "                       \"FullBath\",\n",
    "                       \"LotArea\",\n",
    "                       \"WoodDeckSF\",\n",
    "                       \"OpenPorchSF\",\n",
    "                        \"Fireplaces\",\n",
    "                       \"LotFrontage\",\n",
    "                       \"MasVnrArea\",\n",
    "                       \"YearRemodAdd\",\n",
    "                       \"AvgRoomSize\"]"
   ]
  },
  {
   "cell_type": "code",
   "execution_count": 163,
   "metadata": {
    "collapsed": false
   },
   "outputs": [
    {
     "data": {
      "text/plain": [
       "51"
      ]
     },
     "execution_count": 163,
     "metadata": {},
     "output_type": "execute_result"
    }
   ],
   "source": [
    "len(desired_columns)"
   ]
  },
  {
   "cell_type": "code",
   "execution_count": 164,
   "metadata": {
    "collapsed": false
   },
   "outputs": [
    {
     "data": {
      "text/plain": [
       "True"
      ]
     },
     "execution_count": 164,
     "metadata": {},
     "output_type": "execute_result"
    }
   ],
   "source": [
    "'AvgRoomSize' in house.columns.values"
   ]
  },
  {
   "cell_type": "markdown",
   "metadata": {},
   "source": [
    "### Analyzing multi-collinearity, feature building/analysis.\n",
    "\n",
    "After dealing with Null values, we should take a look at the features and try to analyze their dependence. "
   ]
  },
  {
   "cell_type": "code",
   "execution_count": 165,
   "metadata": {
    "collapsed": false
   },
   "outputs": [
    {
     "data": {
      "text/plain": [
       "<matplotlib.axes._subplots.AxesSubplot at 0x11b6e5c18>"
      ]
     },
     "execution_count": 165,
     "metadata": {},
     "output_type": "execute_result"
    },
    {
     "data": {
      "image/png": "[encoded data removed]",
      "text/plain": [
       "<matplotlib.figure.Figure at 0x11b6d5ac8>"
      ]
     },
     "metadata": {},
     "output_type": "display_data"
    }
   ],
   "source": [
    "### Numerical Feature Heat Map \n",
    "# taken from https://www.kaggle.com/xchmiao/house-prices-advanced-regression-techniques/detailed-data-exploration-in-python\n",
    "\n",
    "corr = df.select_dtypes(include = ['float64', 'int64']).iloc[:, 1:].corr()\n",
    "plt.figure(figsize=(12, 12))\n",
    "sns.heatmap(corr, vmax=1, square=True)\n",
    "\n",
    "# From this heat map, we can view multicollinearity easier. \n",
    "# Darker values suggest the two features may be linear dependent.\n",
    "# Ex. Garage-Cars & Garage-Area"
   ]
  },
  {
   "cell_type": "code",
   "execution_count": null,
   "metadata": {
    "collapsed": true
   },
   "outputs": [],
   "source": []
  },
  {
   "cell_type": "markdown",
   "metadata": {
    "collapsed": true
   },
   "source": [
    "## Desired Features"
   ]
  },
  {
   "cell_type": "code",
   "execution_count": null,
   "metadata": {
    "collapsed": true
   },
   "outputs": [],
   "source": []
  },
  {
   "cell_type": "markdown",
   "metadata": {},
   "source": [
    "## Model Building/Evaluation"
   ]
  },
  {
   "cell_type": "code",
   "execution_count": 166,
   "metadata": {
    "collapsed": true
   },
   "outputs": [],
   "source": [
    "local_train, local_test = train_test_split(house,test_size=0.2,random_state=123)"
   ]
  },
  {
   "cell_type": "code",
   "execution_count": 167,
   "metadata": {
    "collapsed": false
   },
   "outputs": [
    {
     "data": {
      "text/html": [
       "<table class=\"simpletable\">\n",
       "<caption>OLS Regression Results</caption>\n",
       "<tr>\n",
       "  <th>Dep. Variable:</th>        <td>SalePrice</td>    <th>  R-squared:         </th> <td>   0.928</td> \n",
       "</tr>\n",
       "<tr>\n",
       "  <th>Model:</th>                   <td>OLS</td>       <th>  Adj. R-squared:    </th> <td>   0.928</td> \n",
       "</tr>\n",
       "<tr>\n",
       "  <th>Method:</th>             <td>Least Squares</td>  <th>  F-statistic:       </th> <td>1.496e+04</td>\n",
       "</tr>\n",
       "<tr>\n",
       "  <th>Date:</th>             <td>Sat, 01 Oct 2016</td> <th>  Prob (F-statistic):</th>  <td>  0.00</td>  \n",
       "</tr>\n",
       "<tr>\n",
       "  <th>Time:</th>                 <td>16:28:04</td>     <th>  Log-Likelihood:    </th> <td> -14365.</td> \n",
       "</tr>\n",
       "<tr>\n",
       "  <th>No. Observations:</th>      <td>  1168</td>      <th>  AIC:               </th> <td>2.873e+04</td>\n",
       "</tr>\n",
       "<tr>\n",
       "  <th>Df Residuals:</th>          <td>  1167</td>      <th>  BIC:               </th> <td>2.874e+04</td>\n",
       "</tr>\n",
       "<tr>\n",
       "  <th>Df Model:</th>              <td>     1</td>      <th>                     </th>     <td> </td>    \n",
       "</tr>\n",
       "<tr>\n",
       "  <th>Covariance Type:</th>      <td>nonrobust</td>    <th>                     </th>     <td> </td>    \n",
       "</tr>\n",
       "</table>\n",
       "<table class=\"simpletable\">\n",
       "<tr>\n",
       "       <td></td>          <th>coef</th>     <th>std err</th>      <th>t</th>      <th>P>|t|</th> <th>[95.0% Conf. Int.]</th> \n",
       "</tr>\n",
       "<tr>\n",
       "  <th>OverallQual</th> <td> 3.042e+04</td> <td>  248.677</td> <td>  122.327</td> <td> 0.000</td> <td> 2.99e+04  3.09e+04</td>\n",
       "</tr>\n",
       "</table>\n",
       "<table class=\"simpletable\">\n",
       "<tr>\n",
       "  <th>Omnibus:</th>       <td>665.177</td> <th>  Durbin-Watson:     </th> <td>   1.987</td>\n",
       "</tr>\n",
       "<tr>\n",
       "  <th>Prob(Omnibus):</th> <td> 0.000</td>  <th>  Jarque-Bera (JB):  </th> <td>8742.142</td>\n",
       "</tr>\n",
       "<tr>\n",
       "  <th>Skew:</th>          <td> 2.361</td>  <th>  Prob(JB):          </th> <td>    0.00</td>\n",
       "</tr>\n",
       "<tr>\n",
       "  <th>Kurtosis:</th>      <td>15.543</td>  <th>  Cond. No.          </th> <td>    1.00</td>\n",
       "</tr>\n",
       "</table>"
      ],
      "text/plain": [
       "<class 'statsmodels.iolib.summary.Summary'>\n",
       "\"\"\"\n",
       "                            OLS Regression Results                            \n",
       "==============================================================================\n",
       "Dep. Variable:              SalePrice   R-squared:                       0.928\n",
       "Model:                            OLS   Adj. R-squared:                  0.928\n",
       "Method:                 Least Squares   F-statistic:                 1.496e+04\n",
       "Date:                Sat, 01 Oct 2016   Prob (F-statistic):               0.00\n",
       "Time:                        16:28:04   Log-Likelihood:                -14365.\n",
       "No. Observations:                1168   AIC:                         2.873e+04\n",
       "Df Residuals:                    1167   BIC:                         2.874e+04\n",
       "Df Model:                           1                                         \n",
       "Covariance Type:            nonrobust                                         \n",
       "===============================================================================\n",
       "                  coef    std err          t      P>|t|      [95.0% Conf. Int.]\n",
       "-------------------------------------------------------------------------------\n",
       "OverallQual  3.042e+04    248.677    122.327      0.000      2.99e+04  3.09e+04\n",
       "==============================================================================\n",
       "Omnibus:                      665.177   Durbin-Watson:                   1.987\n",
       "Prob(Omnibus):                  0.000   Jarque-Bera (JB):             8742.142\n",
       "Skew:                           2.361   Prob(JB):                         0.00\n",
       "Kurtosis:                      15.543   Cond. No.                         1.00\n",
       "==============================================================================\n",
       "\n",
       "Warnings:\n",
       "[1] Standard Errors assume that the covariance matrix of the errors is correctly specified.\n",
       "\"\"\""
      ]
     },
     "execution_count": 167,
     "metadata": {},
     "output_type": "execute_result"
    }
   ],
   "source": [
    "# Training a linear classifier (only on one)\n",
    "clf = sm.OLS(local_train[\"SalePrice\"], local_train['OverallQual'])\n",
    "results = clf.fit()\n",
    "results.summary()"
   ]
  },
  {
   "cell_type": "code",
   "execution_count": null,
   "metadata": {
    "collapsed": true
   },
   "outputs": [],
   "source": []
  },
  {
   "cell_type": "code",
   "execution_count": 168,
   "metadata": {
    "collapsed": false
   },
   "outputs": [
    {
     "data": {
      "text/plain": [
       "array(['Id', 'MSSubClass', 'LotFrontage', 'LotArea', 'Street', 'Alley',\n",
       "       'LotShape', 'LandContour', 'Utilities', 'LotConfig', 'LandSlope',\n",
       "       'Condition1', 'Condition2', 'BldgType', 'HouseStyle', 'OverallQual',\n",
       "       'OverallCond', 'YearBuilt', 'YearRemodAdd', 'RoofStyle', 'RoofMatl',\n",
       "       'Exterior1st', 'Exterior2nd', 'MasVnrType', 'MasVnrArea',\n",
       "       'ExterCond', 'Foundation', 'BsmtQual', 'BsmtCond', 'BsmtExposure',\n",
       "       'BsmtFinType1', 'BsmtFinSF1', 'BsmtFinType2', 'BsmtFinSF2',\n",
       "       'BsmtUnfSF', 'TotalBsmtSF', 'Heating', 'CentralAir', 'Electrical',\n",
       "       '1stFlrSF', '2ndFlrSF', 'LowQualFinSF', 'GrLivArea', 'BsmtFullBath',\n",
       "       'BsmtHalfBath', 'FullBath', 'HalfBath', 'BedroomAbvGr',\n",
       "       'KitchenAbvGr', 'KitchenQual', 'TotRmsAbvGrd', 'Functional',\n",
       "       'Fireplaces', 'FireplaceQu', 'GarageType', 'GarageYrBlt',\n",
       "       'GarageFinish', 'GarageCars', 'GarageArea', 'GarageQual',\n",
       "       'GarageCond', 'PavedDrive', 'WoodDeckSF', 'OpenPorchSF',\n",
       "       'EnclosedPorch', '3SsnPorch', 'ScreenPorch', 'PoolArea', 'Fence',\n",
       "       'MiscFeature', 'MiscVal', 'MoSold', 'YrSold', 'SaleType',\n",
       "       'SaleCondition', 'SalePrice', 'NoFence', 'AvgRoomSize', 'PoolQC_Fa',\n",
       "       'PoolQC_Gd', 'PoolQC_missing', 'Neighborhood_Blueste',\n",
       "       'Neighborhood_BrDale', 'Neighborhood_BrkSide',\n",
       "       'Neighborhood_ClearCr', 'Neighborhood_CollgCr',\n",
       "       'Neighborhood_Crawfor', 'Neighborhood_Edwards',\n",
       "       'Neighborhood_Gilbert', 'Neighborhood_IDOTRR',\n",
       "       'Neighborhood_MeadowV', 'Neighborhood_Mitchel',\n",
       "       'Neighborhood_NAmes', 'Neighborhood_NPkVill', 'Neighborhood_NWAmes',\n",
       "       'Neighborhood_NoRidge', 'Neighborhood_NridgHt',\n",
       "       'Neighborhood_OldTown', 'Neighborhood_SWISU', 'Neighborhood_Sawyer',\n",
       "       'Neighborhood_SawyerW', 'Neighborhood_Somerst',\n",
       "       'Neighborhood_StoneBr', 'Neighborhood_Timber',\n",
       "       'Neighborhood_Veenker', 'MSZoning_FV', 'MSZoning_RH', 'MSZoning_RL',\n",
       "       'MSZoning_RM', 'HeatingQC_Fa', 'HeatingQC_Gd', 'HeatingQC_Po',\n",
       "       'HeatingQC_TA', 'ExterQual_Fa', 'ExterQual_Gd', 'ExterQual_TA'], dtype=object)"
      ]
     },
     "execution_count": 168,
     "metadata": {},
     "output_type": "execute_result"
    }
   ],
   "source": [
    "# Training a linear classifier (only on numerical values)\n",
    "house.columns.values"
   ]
  },
  {
   "cell_type": "code",
   "execution_count": 169,
   "metadata": {
    "collapsed": false
   },
   "outputs": [],
   "source": [
    "# Running a model on a few categorical data columns (PoolQC, MSSubClass, Neighborhood)\n",
    "\n",
    "local_train, local_test = train_test_split(house,test_size=0.2,random_state=123)\n",
    "\n",
    "local_train_y = local_train[\"SalePrice\"]\n",
    "local_train_x = local_train.drop([\"SalePrice\"],axis=1)\n",
    "local_train_x = local_train_x[desired_columns]\n",
    "\n",
    "local_test_y = local_test[\"SalePrice\"]\n",
    "local_test_x = local_test.drop(\"SalePrice\",axis=1)\n",
    "local_test_x = local_test_x[desired_columns]"
   ]
  },
  {
   "cell_type": "code",
   "execution_count": null,
   "metadata": {
    "collapsed": false
   },
   "outputs": [],
   "source": []
  },
  {
   "cell_type": "code",
   "execution_count": 170,
   "metadata": {
    "collapsed": false
   },
   "outputs": [
    {
     "data": {
      "text/html": [
       "<table class=\"simpletable\">\n",
       "<caption>OLS Regression Results</caption>\n",
       "<tr>\n",
       "  <th>Dep. Variable:</th>        <td>SalePrice</td>    <th>  R-squared:         </th> <td>   0.972</td> \n",
       "</tr>\n",
       "<tr>\n",
       "  <th>Model:</th>                   <td>OLS</td>       <th>  Adj. R-squared:    </th> <td>   0.971</td> \n",
       "</tr>\n",
       "<tr>\n",
       "  <th>Method:</th>             <td>Least Squares</td>  <th>  F-statistic:       </th> <td>   766.5</td> \n",
       "</tr>\n",
       "<tr>\n",
       "  <th>Date:</th>             <td>Sat, 01 Oct 2016</td> <th>  Prob (F-statistic):</th>  <td>  0.00</td>  \n",
       "</tr>\n",
       "<tr>\n",
       "  <th>Time:</th>                 <td>16:28:05</td>     <th>  Log-Likelihood:    </th> <td> -13806.</td> \n",
       "</tr>\n",
       "<tr>\n",
       "  <th>No. Observations:</th>      <td>  1168</td>      <th>  AIC:               </th> <td>2.771e+04</td>\n",
       "</tr>\n",
       "<tr>\n",
       "  <th>Df Residuals:</th>          <td>  1117</td>      <th>  BIC:               </th> <td>2.797e+04</td>\n",
       "</tr>\n",
       "<tr>\n",
       "  <th>Df Model:</th>              <td>    51</td>      <th>                     </th>     <td> </td>    \n",
       "</tr>\n",
       "<tr>\n",
       "  <th>Covariance Type:</th>      <td>nonrobust</td>    <th>                     </th>     <td> </td>    \n",
       "</tr>\n",
       "</table>\n",
       "<table class=\"simpletable\">\n",
       "<tr>\n",
       "            <td></td>              <th>coef</th>     <th>std err</th>      <th>t</th>      <th>P>|t|</th> <th>[95.0% Conf. Int.]</th> \n",
       "</tr>\n",
       "<tr>\n",
       "  <th>PoolQC_Fa</th>            <td>-1.416e+05</td> <td> 3.52e+04</td> <td>   -4.027</td> <td> 0.000</td> <td>-2.11e+05 -7.26e+04</td>\n",
       "</tr>\n",
       "<tr>\n",
       "  <th>PoolQC_Gd</th>            <td>-2.587e+05</td> <td> 3.16e+04</td> <td>   -8.181</td> <td> 0.000</td> <td>-3.21e+05 -1.97e+05</td>\n",
       "</tr>\n",
       "<tr>\n",
       "  <th>PoolQC_missing</th>       <td> -1.54e+05</td> <td> 2.53e+04</td> <td>   -6.093</td> <td> 0.000</td> <td>-2.04e+05 -1.04e+05</td>\n",
       "</tr>\n",
       "<tr>\n",
       "  <th>Neighborhood_Blueste</th> <td>-7857.8413</td> <td> 3.55e+04</td> <td>   -0.221</td> <td> 0.825</td> <td>-7.76e+04  6.18e+04</td>\n",
       "</tr>\n",
       "<tr>\n",
       "  <th>Neighborhood_BrDale</th>  <td>-9322.6342</td> <td> 1.44e+04</td> <td>   -0.645</td> <td> 0.519</td> <td>-3.77e+04   1.9e+04</td>\n",
       "</tr>\n",
       "<tr>\n",
       "  <th>Neighborhood_BrkSide</th> <td> 7964.0770</td> <td> 1.15e+04</td> <td>    0.693</td> <td> 0.488</td> <td>-1.46e+04  3.05e+04</td>\n",
       "</tr>\n",
       "<tr>\n",
       "  <th>Neighborhood_ClearCr</th> <td> 1.582e+04</td> <td> 1.25e+04</td> <td>    1.268</td> <td> 0.205</td> <td>-8665.305  4.03e+04</td>\n",
       "</tr>\n",
       "<tr>\n",
       "  <th>Neighborhood_CollgCr</th> <td> 1.434e+04</td> <td> 1.02e+04</td> <td>    1.411</td> <td> 0.158</td> <td>-5598.687  3.43e+04</td>\n",
       "</tr>\n",
       "<tr>\n",
       "  <th>Neighborhood_Crawfor</th> <td> 2.916e+04</td> <td> 1.11e+04</td> <td>    2.619</td> <td> 0.009</td> <td> 7317.243   5.1e+04</td>\n",
       "</tr>\n",
       "<tr>\n",
       "  <th>Neighborhood_Edwards</th> <td>-3578.3847</td> <td> 1.08e+04</td> <td>   -0.332</td> <td> 0.740</td> <td>-2.47e+04  1.76e+04</td>\n",
       "</tr>\n",
       "<tr>\n",
       "  <th>Neighborhood_Gilbert</th> <td> 8247.0731</td> <td> 1.07e+04</td> <td>    0.773</td> <td> 0.439</td> <td>-1.27e+04  2.92e+04</td>\n",
       "</tr>\n",
       "<tr>\n",
       "  <th>Neighborhood_IDOTRR</th>  <td> 6856.7165</td> <td> 1.33e+04</td> <td>    0.514</td> <td> 0.607</td> <td>-1.93e+04   3.3e+04</td>\n",
       "</tr>\n",
       "<tr>\n",
       "  <th>Neighborhood_MeadowV</th> <td> 5655.3341</td> <td> 1.41e+04</td> <td>    0.401</td> <td> 0.688</td> <td> -2.2e+04  3.33e+04</td>\n",
       "</tr>\n",
       "<tr>\n",
       "  <th>Neighborhood_Mitchel</th> <td> 4637.0815</td> <td> 1.12e+04</td> <td>    0.416</td> <td> 0.678</td> <td>-1.73e+04  2.65e+04</td>\n",
       "</tr>\n",
       "<tr>\n",
       "  <th>Neighborhood_NAmes</th>   <td>-2056.5684</td> <td> 1.02e+04</td> <td>   -0.201</td> <td> 0.841</td> <td>-2.22e+04   1.8e+04</td>\n",
       "</tr>\n",
       "<tr>\n",
       "  <th>Neighborhood_NPkVill</th> <td>-7762.9045</td> <td> 1.55e+04</td> <td>   -0.501</td> <td> 0.616</td> <td>-3.81e+04  2.26e+04</td>\n",
       "</tr>\n",
       "<tr>\n",
       "  <th>Neighborhood_NWAmes</th>  <td>-2511.5468</td> <td> 1.07e+04</td> <td>   -0.234</td> <td> 0.815</td> <td>-2.35e+04  1.85e+04</td>\n",
       "</tr>\n",
       "<tr>\n",
       "  <th>Neighborhood_NoRidge</th> <td> 5.884e+04</td> <td> 1.17e+04</td> <td>    5.025</td> <td> 0.000</td> <td> 3.59e+04  8.18e+04</td>\n",
       "</tr>\n",
       "<tr>\n",
       "  <th>Neighborhood_NridgHt</th> <td> 6.866e+04</td> <td> 1.09e+04</td> <td>    6.304</td> <td> 0.000</td> <td> 4.73e+04     9e+04</td>\n",
       "</tr>\n",
       "<tr>\n",
       "  <th>Neighborhood_OldTown</th> <td>-6691.7193</td> <td> 1.14e+04</td> <td>   -0.585</td> <td> 0.559</td> <td>-2.91e+04  1.57e+04</td>\n",
       "</tr>\n",
       "<tr>\n",
       "  <th>Neighborhood_SWISU</th>   <td>-9459.0919</td> <td> 1.24e+04</td> <td>   -0.762</td> <td> 0.446</td> <td>-3.38e+04  1.49e+04</td>\n",
       "</tr>\n",
       "<tr>\n",
       "  <th>Neighborhood_Sawyer</th>  <td>-3151.8177</td> <td> 1.08e+04</td> <td>   -0.291</td> <td> 0.771</td> <td>-2.44e+04  1.81e+04</td>\n",
       "</tr>\n",
       "<tr>\n",
       "  <th>Neighborhood_SawyerW</th> <td> 7190.0106</td> <td> 1.08e+04</td> <td>    0.667</td> <td> 0.505</td> <td> -1.4e+04  2.83e+04</td>\n",
       "</tr>\n",
       "<tr>\n",
       "  <th>Neighborhood_Somerst</th> <td> 2.572e+04</td> <td> 1.25e+04</td> <td>    2.061</td> <td> 0.040</td> <td> 1234.719  5.02e+04</td>\n",
       "</tr>\n",
       "<tr>\n",
       "  <th>Neighborhood_StoneBr</th> <td> 6.729e+04</td> <td>  1.2e+04</td> <td>    5.591</td> <td> 0.000</td> <td> 4.37e+04  9.09e+04</td>\n",
       "</tr>\n",
       "<tr>\n",
       "  <th>Neighborhood_Timber</th>  <td>  2.02e+04</td> <td> 1.14e+04</td> <td>    1.777</td> <td> 0.076</td> <td>-2107.599  4.25e+04</td>\n",
       "</tr>\n",
       "<tr>\n",
       "  <th>Neighborhood_Veenker</th> <td> 3.842e+04</td> <td>  1.4e+04</td> <td>    2.736</td> <td> 0.006</td> <td> 1.09e+04   6.6e+04</td>\n",
       "</tr>\n",
       "<tr>\n",
       "  <th>MSZoning_FV</th>          <td> 2.925e+04</td> <td> 1.63e+04</td> <td>    1.789</td> <td> 0.074</td> <td>-2822.681  6.13e+04</td>\n",
       "</tr>\n",
       "<tr>\n",
       "  <th>MSZoning_RH</th>          <td>  2.15e+04</td> <td> 1.63e+04</td> <td>    1.317</td> <td> 0.188</td> <td>-1.05e+04  5.35e+04</td>\n",
       "</tr>\n",
       "<tr>\n",
       "  <th>MSZoning_RL</th>          <td> 3.225e+04</td> <td> 1.34e+04</td> <td>    2.416</td> <td> 0.016</td> <td> 6056.126  5.84e+04</td>\n",
       "</tr>\n",
       "<tr>\n",
       "  <th>MSZoning_RM</th>          <td>  2.15e+04</td> <td> 1.25e+04</td> <td>    1.723</td> <td> 0.085</td> <td>-2985.590   4.6e+04</td>\n",
       "</tr>\n",
       "<tr>\n",
       "  <th>HeatingQC_Fa</th>         <td>-1.165e+04</td> <td> 5900.628</td> <td>   -1.974</td> <td> 0.049</td> <td>-2.32e+04   -72.740</td>\n",
       "</tr>\n",
       "<tr>\n",
       "  <th>HeatingQC_Gd</th>         <td>-7192.5281</td> <td> 3070.283</td> <td>   -2.343</td> <td> 0.019</td> <td>-1.32e+04 -1168.357</td>\n",
       "</tr>\n",
       "<tr>\n",
       "  <th>HeatingQC_Po</th>         <td>-2.641e+04</td> <td> 3.46e+04</td> <td>   -0.763</td> <td> 0.445</td> <td>-9.43e+04  4.15e+04</td>\n",
       "</tr>\n",
       "<tr>\n",
       "  <th>HeatingQC_TA</th>         <td>-7883.0079</td> <td> 2799.780</td> <td>   -2.816</td> <td> 0.005</td> <td>-1.34e+04 -2389.588</td>\n",
       "</tr>\n",
       "<tr>\n",
       "  <th>OverallQual</th>          <td>  1.39e+04</td> <td> 1324.280</td> <td>   10.496</td> <td> 0.000</td> <td> 1.13e+04  1.65e+04</td>\n",
       "</tr>\n",
       "<tr>\n",
       "  <th>GrLivArea</th>            <td>   43.7399</td> <td>   12.894</td> <td>    3.392</td> <td> 0.001</td> <td>   18.441    69.039</td>\n",
       "</tr>\n",
       "<tr>\n",
       "  <th>GarageCars</th>           <td> 1.259e+04</td> <td> 3254.674</td> <td>    3.867</td> <td> 0.000</td> <td> 6200.391   1.9e+04</td>\n",
       "</tr>\n",
       "<tr>\n",
       "  <th>GarageArea</th>           <td>    0.3985</td> <td>   11.221</td> <td>    0.036</td> <td> 0.972</td> <td>  -21.618    22.415</td>\n",
       "</tr>\n",
       "<tr>\n",
       "  <th>1stFlrSF</th>             <td>   11.0291</td> <td>    5.494</td> <td>    2.008</td> <td> 0.045</td> <td>    0.250    21.808</td>\n",
       "</tr>\n",
       "<tr>\n",
       "  <th>TotalBsmtSF</th>          <td>   14.6210</td> <td>    4.529</td> <td>    3.228</td> <td> 0.001</td> <td>    5.735    23.507</td>\n",
       "</tr>\n",
       "<tr>\n",
       "  <th>TotRmsAbvGrd</th>         <td>-1912.9067</td> <td> 3089.091</td> <td>   -0.619</td> <td> 0.536</td> <td>-7973.982  4148.169</td>\n",
       "</tr>\n",
       "<tr>\n",
       "  <th>FullBath</th>             <td> -944.8676</td> <td> 2776.046</td> <td>   -0.340</td> <td> 0.734</td> <td>-6391.721  4501.986</td>\n",
       "</tr>\n",
       "<tr>\n",
       "  <th>LotArea</th>              <td>    0.4464</td> <td>    0.122</td> <td>    3.653</td> <td> 0.000</td> <td>    0.207     0.686</td>\n",
       "</tr>\n",
       "<tr>\n",
       "  <th>WoodDeckSF</th>           <td>   37.4888</td> <td>    8.445</td> <td>    4.439</td> <td> 0.000</td> <td>   20.918    54.060</td>\n",
       "</tr>\n",
       "<tr>\n",
       "  <th>OpenPorchSF</th>          <td>   34.6331</td> <td>   16.874</td> <td>    2.053</td> <td> 0.040</td> <td>    1.526    67.740</td>\n",
       "</tr>\n",
       "<tr>\n",
       "  <th>Fireplaces</th>           <td> 6623.9157</td> <td> 1997.225</td> <td>    3.317</td> <td> 0.001</td> <td> 2705.180  1.05e+04</td>\n",
       "</tr>\n",
       "<tr>\n",
       "  <th>LotFrontage</th>          <td>  -30.6096</td> <td>   33.408</td> <td>   -0.916</td> <td> 0.360</td> <td>  -96.159    34.940</td>\n",
       "</tr>\n",
       "<tr>\n",
       "  <th>MasVnrArea</th>           <td>   19.9187</td> <td>    7.103</td> <td>    2.804</td> <td> 0.005</td> <td>    5.983    33.855</td>\n",
       "</tr>\n",
       "<tr>\n",
       "  <th>YearRemodAdd</th>         <td>   58.3305</td> <td>   17.190</td> <td>    3.393</td> <td> 0.001</td> <td>   24.601    92.060</td>\n",
       "</tr>\n",
       "<tr>\n",
       "  <th>AvgRoomSize</th>          <td>  -88.4534</td> <td>   84.560</td> <td>   -1.046</td> <td> 0.296</td> <td> -254.367    77.460</td>\n",
       "</tr>\n",
       "</table>\n",
       "<table class=\"simpletable\">\n",
       "<tr>\n",
       "  <th>Omnibus:</th>       <td>288.784</td> <th>  Durbin-Watson:     </th> <td>   2.023</td> \n",
       "</tr>\n",
       "<tr>\n",
       "  <th>Prob(Omnibus):</th> <td> 0.000</td>  <th>  Jarque-Bera (JB):  </th> <td>13831.624</td>\n",
       "</tr>\n",
       "<tr>\n",
       "  <th>Skew:</th>          <td> 0.211</td>  <th>  Prob(JB):          </th> <td>    0.00</td> \n",
       "</tr>\n",
       "<tr>\n",
       "  <th>Kurtosis:</th>      <td>19.853</td>  <th>  Cond. No.          </th> <td>7.12e+05</td> \n",
       "</tr>\n",
       "</table>"
      ],
      "text/plain": [
       "<class 'statsmodels.iolib.summary.Summary'>\n",
       "\"\"\"\n",
       "                            OLS Regression Results                            \n",
       "==============================================================================\n",
       "Dep. Variable:              SalePrice   R-squared:                       0.972\n",
       "Model:                            OLS   Adj. R-squared:                  0.971\n",
       "Method:                 Least Squares   F-statistic:                     766.5\n",
       "Date:                Sat, 01 Oct 2016   Prob (F-statistic):               0.00\n",
       "Time:                        16:28:05   Log-Likelihood:                -13806.\n",
       "No. Observations:                1168   AIC:                         2.771e+04\n",
       "Df Residuals:                    1117   BIC:                         2.797e+04\n",
       "Df Model:                          51                                         \n",
       "Covariance Type:            nonrobust                                         \n",
       "========================================================================================\n",
       "                           coef    std err          t      P>|t|      [95.0% Conf. Int.]\n",
       "----------------------------------------------------------------------------------------\n",
       "PoolQC_Fa            -1.416e+05   3.52e+04     -4.027      0.000     -2.11e+05 -7.26e+04\n",
       "PoolQC_Gd            -2.587e+05   3.16e+04     -8.181      0.000     -3.21e+05 -1.97e+05\n",
       "PoolQC_missing        -1.54e+05   2.53e+04     -6.093      0.000     -2.04e+05 -1.04e+05\n",
       "Neighborhood_Blueste -7857.8413   3.55e+04     -0.221      0.825     -7.76e+04  6.18e+04\n",
       "Neighborhood_BrDale  -9322.6342   1.44e+04     -0.645      0.519     -3.77e+04   1.9e+04\n",
       "Neighborhood_BrkSide  7964.0770   1.15e+04      0.693      0.488     -1.46e+04  3.05e+04\n",
       "Neighborhood_ClearCr  1.582e+04   1.25e+04      1.268      0.205     -8665.305  4.03e+04\n",
       "Neighborhood_CollgCr  1.434e+04   1.02e+04      1.411      0.158     -5598.687  3.43e+04\n",
       "Neighborhood_Crawfor  2.916e+04   1.11e+04      2.619      0.009      7317.243   5.1e+04\n",
       "Neighborhood_Edwards -3578.3847   1.08e+04     -0.332      0.740     -2.47e+04  1.76e+04\n",
       "Neighborhood_Gilbert  8247.0731   1.07e+04      0.773      0.439     -1.27e+04  2.92e+04\n",
       "Neighborhood_IDOTRR   6856.7165   1.33e+04      0.514      0.607     -1.93e+04   3.3e+04\n",
       "Neighborhood_MeadowV  5655.3341   1.41e+04      0.401      0.688      -2.2e+04  3.33e+04\n",
       "Neighborhood_Mitchel  4637.0815   1.12e+04      0.416      0.678     -1.73e+04  2.65e+04\n",
       "Neighborhood_NAmes   -2056.5684   1.02e+04     -0.201      0.841     -2.22e+04   1.8e+04\n",
       "Neighborhood_NPkVill -7762.9045   1.55e+04     -0.501      0.616     -3.81e+04  2.26e+04\n",
       "Neighborhood_NWAmes  -2511.5468   1.07e+04     -0.234      0.815     -2.35e+04  1.85e+04\n",
       "Neighborhood_NoRidge  5.884e+04   1.17e+04      5.025      0.000      3.59e+04  8.18e+04\n",
       "Neighborhood_NridgHt  6.866e+04   1.09e+04      6.304      0.000      4.73e+04     9e+04\n",
       "Neighborhood_OldTown -6691.7193   1.14e+04     -0.585      0.559     -2.91e+04  1.57e+04\n",
       "Neighborhood_SWISU   -9459.0919   1.24e+04     -0.762      0.446     -3.38e+04  1.49e+04\n",
       "Neighborhood_Sawyer  -3151.8177   1.08e+04     -0.291      0.771     -2.44e+04  1.81e+04\n",
       "Neighborhood_SawyerW  7190.0106   1.08e+04      0.667      0.505      -1.4e+04  2.83e+04\n",
       "Neighborhood_Somerst  2.572e+04   1.25e+04      2.061      0.040      1234.719  5.02e+04\n",
       "Neighborhood_StoneBr  6.729e+04    1.2e+04      5.591      0.000      4.37e+04  9.09e+04\n",
       "Neighborhood_Timber    2.02e+04   1.14e+04      1.777      0.076     -2107.599  4.25e+04\n",
       "Neighborhood_Veenker  3.842e+04    1.4e+04      2.736      0.006      1.09e+04   6.6e+04\n",
       "MSZoning_FV           2.925e+04   1.63e+04      1.789      0.074     -2822.681  6.13e+04\n",
       "MSZoning_RH            2.15e+04   1.63e+04      1.317      0.188     -1.05e+04  5.35e+04\n",
       "MSZoning_RL           3.225e+04   1.34e+04      2.416      0.016      6056.126  5.84e+04\n",
       "MSZoning_RM            2.15e+04   1.25e+04      1.723      0.085     -2985.590   4.6e+04\n",
       "HeatingQC_Fa         -1.165e+04   5900.628     -1.974      0.049     -2.32e+04   -72.740\n",
       "HeatingQC_Gd         -7192.5281   3070.283     -2.343      0.019     -1.32e+04 -1168.357\n",
       "HeatingQC_Po         -2.641e+04   3.46e+04     -0.763      0.445     -9.43e+04  4.15e+04\n",
       "HeatingQC_TA         -7883.0079   2799.780     -2.816      0.005     -1.34e+04 -2389.588\n",
       "OverallQual            1.39e+04   1324.280     10.496      0.000      1.13e+04  1.65e+04\n",
       "GrLivArea               43.7399     12.894      3.392      0.001        18.441    69.039\n",
       "GarageCars            1.259e+04   3254.674      3.867      0.000      6200.391   1.9e+04\n",
       "GarageArea               0.3985     11.221      0.036      0.972       -21.618    22.415\n",
       "1stFlrSF                11.0291      5.494      2.008      0.045         0.250    21.808\n",
       "TotalBsmtSF             14.6210      4.529      3.228      0.001         5.735    23.507\n",
       "TotRmsAbvGrd         -1912.9067   3089.091     -0.619      0.536     -7973.982  4148.169\n",
       "FullBath              -944.8676   2776.046     -0.340      0.734     -6391.721  4501.986\n",
       "LotArea                  0.4464      0.122      3.653      0.000         0.207     0.686\n",
       "WoodDeckSF              37.4888      8.445      4.439      0.000        20.918    54.060\n",
       "OpenPorchSF             34.6331     16.874      2.053      0.040         1.526    67.740\n",
       "Fireplaces            6623.9157   1997.225      3.317      0.001      2705.180  1.05e+04\n",
       "LotFrontage            -30.6096     33.408     -0.916      0.360       -96.159    34.940\n",
       "MasVnrArea              19.9187      7.103      2.804      0.005         5.983    33.855\n",
       "YearRemodAdd            58.3305     17.190      3.393      0.001        24.601    92.060\n",
       "AvgRoomSize            -88.4534     84.560     -1.046      0.296      -254.367    77.460\n",
       "==============================================================================\n",
       "Omnibus:                      288.784   Durbin-Watson:                   2.023\n",
       "Prob(Omnibus):                  0.000   Jarque-Bera (JB):            13831.624\n",
       "Skew:                           0.211   Prob(JB):                         0.00\n",
       "Kurtosis:                      19.853   Cond. No.                     7.12e+05\n",
       "==============================================================================\n",
       "\n",
       "Warnings:\n",
       "[1] Standard Errors assume that the covariance matrix of the errors is correctly specified.\n",
       "[2] The condition number is large, 7.12e+05. This might indicate that there are\n",
       "strong multicollinearity or other numerical problems.\n",
       "\"\"\""
      ]
     },
     "execution_count": 170,
     "metadata": {},
     "output_type": "execute_result"
    }
   ],
   "source": [
    "clf = sm.OLS(local_train_y, local_train_x)\n",
    "result = clf.fit()\n",
    "result.summary()\n"
   ]
  },
  {
   "cell_type": "code",
   "execution_count": 180,
   "metadata": {
    "collapsed": false
   },
   "outputs": [
    {
     "data": {
      "text/plain": [
       "0.1929375966479637"
      ]
     },
     "execution_count": 180,
     "metadata": {},
     "output_type": "execute_result"
    }
   ],
   "source": [
    "preds = result.predict(local_train_x)\n",
    "\n",
    "n = local_train_y.shape[0]\n",
    "np.sqrt((1/n)*np.sum((np.log(local_train_y) - np.log(preds))**2))"
   ]
  },
  {
   "cell_type": "code",
   "execution_count": 181,
   "metadata": {
    "collapsed": false
   },
   "outputs": [
    {
     "data": {
      "text/plain": [
       "0.15188316259495585"
      ]
     },
     "execution_count": 181,
     "metadata": {},
     "output_type": "execute_result"
    }
   ],
   "source": [
    "test_preds = result.predict(local_test_x)\n",
    "n = local_test_y.shape[0]\n",
    "np.sqrt((1/n)*np.sum((np.log(local_test_y) - np.log(test_preds))**2))"
   ]
  },
  {
   "cell_type": "code",
   "execution_count": null,
   "metadata": {
    "collapsed": true
   },
   "outputs": [],
   "source": []
  },
  {
   "cell_type": "code",
   "execution_count": null,
   "metadata": {
    "collapsed": true
   },
   "outputs": [],
   "source": []
  },
  {
   "cell_type": "code",
   "execution_count": null,
   "metadata": {
    "collapsed": true
   },
   "outputs": [],
   "source": []
  }
 ],
 "metadata": {
  "anaconda-cloud": {},
  "kernelspec": {
   "display_name": "Python [Root]",
   "language": "python",
   "name": "Python [Root]"
  },
  "language_info": {
   "codemirror_mode": {
    "name": "ipython",
    "version": 3
   },
   "file_extension": ".py",
   "mimetype": "text/x-python",
   "name": "python",
   "nbconvert_exporter": "python",
   "pygments_lexer": "ipython3",
   "version": "3.5.2"
  }
 },
 "nbformat": 4,
 "nbformat_minor": 0
}
