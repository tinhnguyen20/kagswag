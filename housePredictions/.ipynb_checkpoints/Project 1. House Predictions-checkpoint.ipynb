{
 "cells": [
  {
   "cell_type": "markdown",
   "metadata": {},
   "source": [
    "# House Predictions\n",
    "\n",
    "### Group: , Tinh Nguyen"
   ]
  },
  {
   "cell_type": "code",
   "execution_count": 19,
   "metadata": {
    "collapsed": true
   },
   "outputs": [],
   "source": [
    "%matplotlib inline\n",
    "import re\n",
    "import pandas as pd\n",
    "import numpy as np\n",
    "import seaborn as sns\n",
    "import matplotlib\n",
    "import matplotlib.pyplot as plt\n",
    "import statsmodels.api as sm\n",
    "from pandas import DataFrame, Series\n",
    "from sklearn.cross_validation import train_test_split"
   ]
  },
  {
   "cell_type": "code",
   "execution_count": 2,
   "metadata": {
    "collapsed": true
   },
   "outputs": [],
   "source": [
    "df = pd.read_csv('train.csv')\n",
    "ts = pd.read_csv('test.csv')"
   ]
  },
  {
   "cell_type": "markdown",
   "metadata": {},
   "source": [
    "A few resources:\n",
    "     - (sklearn lin. models) http://scikit-learn.org/stable/modules/linear_model.html \n",
    "     - (ex. script) https://www.kaggle.com/apapiu/house-prices-advanced-regression-techniques/regularized-linear-models"
   ]
  },
  {
   "cell_type": "markdown",
   "metadata": {},
   "source": [
    "# Data Visualization and Exploration\n",
    "\n",
    "## Data Clean-up\n",
    " - Deal with null values\n",
    " - Deal with linearly dependent columns/features\n",
    " - Look at PoolQC, MiscFeature\n",
    " \n",
    "## Feature building/extraction\n",
    " - Parse and give numerical values to str. values. (ex. Utilities, LotShape, SaleCondition)\n",
    " "
   ]
  },
  {
   "cell_type": "code",
   "execution_count": 3,
   "metadata": {
    "collapsed": false
   },
   "outputs": [
    {
     "data": {
      "text/html": [
       "<div>\n",
       "<table border=\"1\" class=\"dataframe\">\n",
       "  <thead>\n",
       "    <tr style=\"text-align: right;\">\n",
       "      <th></th>\n",
       "      <th>Id</th>\n",
       "      <th>MSSubClass</th>\n",
       "      <th>MSZoning</th>\n",
       "      <th>LotFrontage</th>\n",
       "      <th>LotArea</th>\n",
       "      <th>Street</th>\n",
       "      <th>Alley</th>\n",
       "      <th>LotShape</th>\n",
       "      <th>LandContour</th>\n",
       "      <th>Utilities</th>\n",
       "      <th>...</th>\n",
       "      <th>PoolArea</th>\n",
       "      <th>PoolQC</th>\n",
       "      <th>Fence</th>\n",
       "      <th>MiscFeature</th>\n",
       "      <th>MiscVal</th>\n",
       "      <th>MoSold</th>\n",
       "      <th>YrSold</th>\n",
       "      <th>SaleType</th>\n",
       "      <th>SaleCondition</th>\n",
       "      <th>SalePrice</th>\n",
       "    </tr>\n",
       "  </thead>\n",
       "  <tbody>\n",
       "    <tr>\n",
       "      <th>0</th>\n",
       "      <td>1</td>\n",
       "      <td>60</td>\n",
       "      <td>RL</td>\n",
       "      <td>65.0</td>\n",
       "      <td>8450</td>\n",
       "      <td>Pave</td>\n",
       "      <td>NaN</td>\n",
       "      <td>Reg</td>\n",
       "      <td>Lvl</td>\n",
       "      <td>AllPub</td>\n",
       "      <td>...</td>\n",
       "      <td>0</td>\n",
       "      <td>NaN</td>\n",
       "      <td>NaN</td>\n",
       "      <td>NaN</td>\n",
       "      <td>0</td>\n",
       "      <td>2</td>\n",
       "      <td>2008</td>\n",
       "      <td>WD</td>\n",
       "      <td>Normal</td>\n",
       "      <td>208500</td>\n",
       "    </tr>\n",
       "    <tr>\n",
       "      <th>1</th>\n",
       "      <td>2</td>\n",
       "      <td>20</td>\n",
       "      <td>RL</td>\n",
       "      <td>80.0</td>\n",
       "      <td>9600</td>\n",
       "      <td>Pave</td>\n",
       "      <td>NaN</td>\n",
       "      <td>Reg</td>\n",
       "      <td>Lvl</td>\n",
       "      <td>AllPub</td>\n",
       "      <td>...</td>\n",
       "      <td>0</td>\n",
       "      <td>NaN</td>\n",
       "      <td>NaN</td>\n",
       "      <td>NaN</td>\n",
       "      <td>0</td>\n",
       "      <td>5</td>\n",
       "      <td>2007</td>\n",
       "      <td>WD</td>\n",
       "      <td>Normal</td>\n",
       "      <td>181500</td>\n",
       "    </tr>\n",
       "    <tr>\n",
       "      <th>2</th>\n",
       "      <td>3</td>\n",
       "      <td>60</td>\n",
       "      <td>RL</td>\n",
       "      <td>68.0</td>\n",
       "      <td>11250</td>\n",
       "      <td>Pave</td>\n",
       "      <td>NaN</td>\n",
       "      <td>IR1</td>\n",
       "      <td>Lvl</td>\n",
       "      <td>AllPub</td>\n",
       "      <td>...</td>\n",
       "      <td>0</td>\n",
       "      <td>NaN</td>\n",
       "      <td>NaN</td>\n",
       "      <td>NaN</td>\n",
       "      <td>0</td>\n",
       "      <td>9</td>\n",
       "      <td>2008</td>\n",
       "      <td>WD</td>\n",
       "      <td>Normal</td>\n",
       "      <td>223500</td>\n",
       "    </tr>\n",
       "    <tr>\n",
       "      <th>3</th>\n",
       "      <td>4</td>\n",
       "      <td>70</td>\n",
       "      <td>RL</td>\n",
       "      <td>60.0</td>\n",
       "      <td>9550</td>\n",
       "      <td>Pave</td>\n",
       "      <td>NaN</td>\n",
       "      <td>IR1</td>\n",
       "      <td>Lvl</td>\n",
       "      <td>AllPub</td>\n",
       "      <td>...</td>\n",
       "      <td>0</td>\n",
       "      <td>NaN</td>\n",
       "      <td>NaN</td>\n",
       "      <td>NaN</td>\n",
       "      <td>0</td>\n",
       "      <td>2</td>\n",
       "      <td>2006</td>\n",
       "      <td>WD</td>\n",
       "      <td>Abnorml</td>\n",
       "      <td>140000</td>\n",
       "    </tr>\n",
       "    <tr>\n",
       "      <th>4</th>\n",
       "      <td>5</td>\n",
       "      <td>60</td>\n",
       "      <td>RL</td>\n",
       "      <td>84.0</td>\n",
       "      <td>14260</td>\n",
       "      <td>Pave</td>\n",
       "      <td>NaN</td>\n",
       "      <td>IR1</td>\n",
       "      <td>Lvl</td>\n",
       "      <td>AllPub</td>\n",
       "      <td>...</td>\n",
       "      <td>0</td>\n",
       "      <td>NaN</td>\n",
       "      <td>NaN</td>\n",
       "      <td>NaN</td>\n",
       "      <td>0</td>\n",
       "      <td>12</td>\n",
       "      <td>2008</td>\n",
       "      <td>WD</td>\n",
       "      <td>Normal</td>\n",
       "      <td>250000</td>\n",
       "    </tr>\n",
       "  </tbody>\n",
       "</table>\n",
       "<p>5 rows × 81 columns</p>\n",
       "</div>"
      ],
      "text/plain": [
       "   Id  MSSubClass MSZoning  LotFrontage  LotArea Street Alley LotShape  \\\n",
       "0   1          60       RL         65.0     8450   Pave   NaN      Reg   \n",
       "1   2          20       RL         80.0     9600   Pave   NaN      Reg   \n",
       "2   3          60       RL         68.0    11250   Pave   NaN      IR1   \n",
       "3   4          70       RL         60.0     9550   Pave   NaN      IR1   \n",
       "4   5          60       RL         84.0    14260   Pave   NaN      IR1   \n",
       "\n",
       "  LandContour Utilities    ...     PoolArea PoolQC Fence MiscFeature MiscVal  \\\n",
       "0         Lvl    AllPub    ...            0    NaN   NaN         NaN       0   \n",
       "1         Lvl    AllPub    ...            0    NaN   NaN         NaN       0   \n",
       "2         Lvl    AllPub    ...            0    NaN   NaN         NaN       0   \n",
       "3         Lvl    AllPub    ...            0    NaN   NaN         NaN       0   \n",
       "4         Lvl    AllPub    ...            0    NaN   NaN         NaN       0   \n",
       "\n",
       "  MoSold YrSold  SaleType  SaleCondition  SalePrice  \n",
       "0      2   2008        WD         Normal     208500  \n",
       "1      5   2007        WD         Normal     181500  \n",
       "2      9   2008        WD         Normal     223500  \n",
       "3      2   2006        WD        Abnorml     140000  \n",
       "4     12   2008        WD         Normal     250000  \n",
       "\n",
       "[5 rows x 81 columns]"
      ]
     },
     "execution_count": 3,
     "metadata": {},
     "output_type": "execute_result"
    }
   ],
   "source": [
    "df.head()"
   ]
  },
  {
   "cell_type": "code",
   "execution_count": 4,
   "metadata": {
    "collapsed": false
   },
   "outputs": [
    {
     "data": {
      "text/plain": [
       "Id                  0\n",
       "MSSubClass          0\n",
       "MSZoning            0\n",
       "LotFrontage       259\n",
       "LotArea             0\n",
       "Street              0\n",
       "Alley            1369\n",
       "LotShape            0\n",
       "LandContour         0\n",
       "Utilities           0\n",
       "LotConfig           0\n",
       "LandSlope           0\n",
       "Neighborhood        0\n",
       "Condition1          0\n",
       "Condition2          0\n",
       "BldgType            0\n",
       "HouseStyle          0\n",
       "OverallQual         0\n",
       "OverallCond         0\n",
       "YearBuilt           0\n",
       "YearRemodAdd        0\n",
       "RoofStyle           0\n",
       "RoofMatl            0\n",
       "Exterior1st         0\n",
       "Exterior2nd         0\n",
       "MasVnrType          8\n",
       "MasVnrArea          8\n",
       "ExterQual           0\n",
       "ExterCond           0\n",
       "Foundation          0\n",
       "                 ... \n",
       "BedroomAbvGr        0\n",
       "KitchenAbvGr        0\n",
       "KitchenQual         0\n",
       "TotRmsAbvGrd        0\n",
       "Functional          0\n",
       "Fireplaces          0\n",
       "FireplaceQu       690\n",
       "GarageType         81\n",
       "GarageYrBlt        81\n",
       "GarageFinish       81\n",
       "GarageCars          0\n",
       "GarageArea          0\n",
       "GarageQual         81\n",
       "GarageCond         81\n",
       "PavedDrive          0\n",
       "WoodDeckSF          0\n",
       "OpenPorchSF         0\n",
       "EnclosedPorch       0\n",
       "3SsnPorch           0\n",
       "ScreenPorch         0\n",
       "PoolArea            0\n",
       "PoolQC           1453\n",
       "Fence            1179\n",
       "MiscFeature      1406\n",
       "MiscVal             0\n",
       "MoSold              0\n",
       "YrSold              0\n",
       "SaleType            0\n",
       "SaleCondition       0\n",
       "SalePrice           0\n",
       "dtype: int64"
      ]
     },
     "execution_count": 4,
     "metadata": {},
     "output_type": "execute_result"
    }
   ],
   "source": [
    "df.dtypes\n",
    "#Counts missing values for each column (may want to omit these columns if they are not useful)\n",
    "df.isnull().sum() "
   ]
  },
  {
   "cell_type": "code",
   "execution_count": 5,
   "metadata": {
    "collapsed": false
   },
   "outputs": [],
   "source": [
    "house_y = df['SalePrice'] # our training \"labels\"\n",
    "house_x = df.drop('SalePrice', axis=1).drop('Id', axis=1) # training data, without labels, id"
   ]
  },
  {
   "cell_type": "code",
   "execution_count": 6,
   "metadata": {
    "collapsed": false
   },
   "outputs": [
    {
     "data": {
      "image/png": "[encoded data removed]",
      "text/plain": [
       "<matplotlib.figure.Figure at 0x116ac5320>"
      ]
     },
     "metadata": {},
     "output_type": "display_data"
    },
    {
     "data": {
      "image/png": "[encoded data removed]",
      "text/plain": [
       "<matplotlib.figure.Figure at 0x116ac52e8>"
      ]
     },
     "metadata": {},
     "output_type": "display_data"
    }
   ],
   "source": [
    "# Let's analyze the relationship between Neighborhood and SalePrice\n",
    "plt.figure(figsize = (12, 6))\n",
    "sns.boxplot(x = 'Neighborhood', y = 'SalePrice',  data = df)\n",
    "xt = plt.xticks(rotation=45)\n",
    "\n",
    "# Box plot of certain column\n",
    "col_name = 'SaleCondition'\n",
    "\n",
    "plt.figure(figsize = (12, 6))\n",
    "sns.boxplot(x = col_name, y = 'SalePrice',  data = df)\n",
    "xt = plt.xticks(rotation=45)"
   ]
  },
  {
   "cell_type": "markdown",
   "metadata": {},
   "source": [
    "### Dealing With Null values\n",
    "\n",
    "Currently house_x contains all the original columns except for  (Id, Salesprice). We need to devise a plan to deal with Null values in our dataset (omit them, or give them meaning).\n",
    "\n",
    "For example: \n",
    " - PoolQC (Pool Quality Control), has a lot of null values but NA is the choice for 'no pool'\n",
    " - Alley (type of alley access from property), might (not?) be a useful feature for house predictions\n",
    " - MiscVal, corresponds with MiscFeature (value of the misc. feature)\n",
    "\n",
    "To deal with categorical data, PoolQC, we can use the one-hot encoding schema.\n",
    "\n"
   ]
  },
  {
   "cell_type": "code",
   "execution_count": null,
   "metadata": {
    "collapsed": false
   },
   "outputs": [],
   "source": []
  },
  {
   "cell_type": "code",
   "execution_count": 10,
   "metadata": {
    "collapsed": false
   },
   "outputs": [],
   "source": [
    "#house_x = pd.get_dummies(house_x,columns=['PoolQC'],drop_first=True)\n",
    "house = pd.get_dummies(df, columns=['MSSubClass','PoolQC', 'Neighborhood'], drop_first=True)"
   ]
  },
  {
   "cell_type": "markdown",
   "metadata": {},
   "source": []
  },
  {
   "cell_type": "code",
   "execution_count": 12,
   "metadata": {
    "collapsed": false
   },
   "outputs": [
    {
     "name": "stdout",
     "output_type": "stream",
     "text": [
      "Median salePrice:  163000.0\n"
     ]
    }
   ],
   "source": [
    "\n",
    "print('Median salePrice: ', house['SalePrice'].median(axis=0))"
   ]
  },
  {
   "cell_type": "code",
   "execution_count": 14,
   "metadata": {
    "collapsed": false
   },
   "outputs": [],
   "source": [
    "# grabs all the desired neighborhoods\n",
    "\n",
    "neighborhood_pattern = '(Neighborhood_.*)'\n",
    "ms_pattern = '(MSSubClass_.*)'\n",
    "pqc_pattern = '(PoolQC_.*)'\n",
    "\n",
    "desired_columns = []\n",
    "for col_name in house.columns:\n",
    "    if re.match(neighborhood_pattern, col_name):\n",
    "        desired_columns.append(col_name)\n",
    "    elif re.match(ms_pattern, col_name):\n",
    "        desired_columns.append(col_name)\n",
    "    elif re.match(pqc_pattern, col_name):\n",
    "        desired_columns.append(col_name)\n"
   ]
  },
  {
   "cell_type": "code",
   "execution_count": 15,
   "metadata": {
    "collapsed": false
   },
   "outputs": [
    {
     "data": {
      "text/plain": [
       "['MSSubClass_30',\n",
       " 'MSSubClass_40',\n",
       " 'MSSubClass_45',\n",
       " 'MSSubClass_50',\n",
       " 'MSSubClass_60',\n",
       " 'MSSubClass_70',\n",
       " 'MSSubClass_75',\n",
       " 'MSSubClass_80',\n",
       " 'MSSubClass_85',\n",
       " 'MSSubClass_90',\n",
       " 'MSSubClass_120',\n",
       " 'MSSubClass_160',\n",
       " 'MSSubClass_180',\n",
       " 'MSSubClass_190',\n",
       " 'PoolQC_Fa',\n",
       " 'PoolQC_Gd',\n",
       " 'Neighborhood_Blueste',\n",
       " 'Neighborhood_BrDale',\n",
       " 'Neighborhood_BrkSide',\n",
       " 'Neighborhood_ClearCr',\n",
       " 'Neighborhood_CollgCr',\n",
       " 'Neighborhood_Crawfor',\n",
       " 'Neighborhood_Edwards',\n",
       " 'Neighborhood_Gilbert',\n",
       " 'Neighborhood_IDOTRR',\n",
       " 'Neighborhood_MeadowV',\n",
       " 'Neighborhood_Mitchel',\n",
       " 'Neighborhood_NAmes',\n",
       " 'Neighborhood_NPkVill',\n",
       " 'Neighborhood_NWAmes',\n",
       " 'Neighborhood_NoRidge',\n",
       " 'Neighborhood_NridgHt',\n",
       " 'Neighborhood_OldTown',\n",
       " 'Neighborhood_SWISU',\n",
       " 'Neighborhood_Sawyer',\n",
       " 'Neighborhood_SawyerW',\n",
       " 'Neighborhood_Somerst',\n",
       " 'Neighborhood_StoneBr',\n",
       " 'Neighborhood_Timber',\n",
       " 'Neighborhood_Veenker']"
      ]
     },
     "execution_count": 15,
     "metadata": {},
     "output_type": "execute_result"
    }
   ],
   "source": [
    "desired_columns"
   ]
  },
  {
   "cell_type": "code",
   "execution_count": null,
   "metadata": {
    "collapsed": true
   },
   "outputs": [],
   "source": []
  },
  {
   "cell_type": "markdown",
   "metadata": {},
   "source": [
    "### Analyzing multi-collinearity, feature building/analysis.\n",
    "\n",
    "After dealing with Null values, we should take a look at the features and try to analyze their dependence. "
   ]
  },
  {
   "cell_type": "code",
   "execution_count": 48,
   "metadata": {
    "collapsed": false
   },
   "outputs": [
    {
     "data": {
      "text/plain": [
       "<matplotlib.axes._subplots.AxesSubplot at 0x11d664080>"
      ]
     },
     "execution_count": 48,
     "metadata": {},
     "output_type": "execute_result"
    },
    {
     "data": {
      "image/png": "[encoded data removed]",
      "text/plain": [
       "<matplotlib.figure.Figure at 0x11d664518>"
      ]
     },
     "metadata": {},
     "output_type": "display_data"
    }
   ],
   "source": [
    "### Numerical Feature Heat Map \n",
    "# taken from https://www.kaggle.com/xchmiao/house-prices-advanced-regression-techniques/detailed-data-exploration-in-python\n",
    "\n",
    "corr = df.select_dtypes(include = ['float64', 'int64']).iloc[:, 1:].corr()\n",
    "plt.figure(figsize=(12, 12))\n",
    "sns.heatmap(corr, vmax=1, square=True)\n",
    "\n",
    "# From this heat map, we can view multicollinearity easier. \n",
    "# Darker values suggest the two features may be linear dependent.\n",
    "# Ex. Garage-Cars & Garage-Area"
   ]
  },
  {
   "cell_type": "code",
   "execution_count": null,
   "metadata": {
    "collapsed": true
   },
   "outputs": [],
   "source": []
  },
  {
   "cell_type": "code",
   "execution_count": null,
   "metadata": {
    "collapsed": true
   },
   "outputs": [],
   "source": []
  },
  {
   "cell_type": "code",
   "execution_count": null,
   "metadata": {
    "collapsed": true
   },
   "outputs": [],
   "source": []
  },
  {
   "cell_type": "code",
   "execution_count": null,
   "metadata": {
    "collapsed": true
   },
   "outputs": [],
   "source": []
  },
  {
   "cell_type": "code",
   "execution_count": 16,
   "metadata": {
    "collapsed": true
   },
   "outputs": [],
   "source": [
    "local_train, local_test = train_test_split(house,test_size=0.2,random_state=123)"
   ]
  },
  {
   "cell_type": "code",
   "execution_count": 20,
   "metadata": {
    "collapsed": false
   },
   "outputs": [
    {
     "data": {
      "text/html": [
       "<table class=\"simpletable\">\n",
       "<caption>OLS Regression Results</caption>\n",
       "<tr>\n",
       "  <th>Dep. Variable:</th>        <td>SalePrice</td>    <th>  R-squared:         </th> <td>   0.928</td> \n",
       "</tr>\n",
       "<tr>\n",
       "  <th>Model:</th>                   <td>OLS</td>       <th>  Adj. R-squared:    </th> <td>   0.928</td> \n",
       "</tr>\n",
       "<tr>\n",
       "  <th>Method:</th>             <td>Least Squares</td>  <th>  F-statistic:       </th> <td>1.496e+04</td>\n",
       "</tr>\n",
       "<tr>\n",
       "  <th>Date:</th>             <td>Sat, 01 Oct 2016</td> <th>  Prob (F-statistic):</th>  <td>  0.00</td>  \n",
       "</tr>\n",
       "<tr>\n",
       "  <th>Time:</th>                 <td>13:50:57</td>     <th>  Log-Likelihood:    </th> <td> -14365.</td> \n",
       "</tr>\n",
       "<tr>\n",
       "  <th>No. Observations:</th>      <td>  1168</td>      <th>  AIC:               </th> <td>2.873e+04</td>\n",
       "</tr>\n",
       "<tr>\n",
       "  <th>Df Residuals:</th>          <td>  1167</td>      <th>  BIC:               </th> <td>2.874e+04</td>\n",
       "</tr>\n",
       "<tr>\n",
       "  <th>Df Model:</th>              <td>     1</td>      <th>                     </th>     <td> </td>    \n",
       "</tr>\n",
       "<tr>\n",
       "  <th>Covariance Type:</th>      <td>nonrobust</td>    <th>                     </th>     <td> </td>    \n",
       "</tr>\n",
       "</table>\n",
       "<table class=\"simpletable\">\n",
       "<tr>\n",
       "       <td></td>          <th>coef</th>     <th>std err</th>      <th>t</th>      <th>P>|t|</th> <th>[95.0% Conf. Int.]</th> \n",
       "</tr>\n",
       "<tr>\n",
       "  <th>OverallQual</th> <td> 3.042e+04</td> <td>  248.677</td> <td>  122.327</td> <td> 0.000</td> <td> 2.99e+04  3.09e+04</td>\n",
       "</tr>\n",
       "</table>\n",
       "<table class=\"simpletable\">\n",
       "<tr>\n",
       "  <th>Omnibus:</th>       <td>665.177</td> <th>  Durbin-Watson:     </th> <td>   1.987</td>\n",
       "</tr>\n",
       "<tr>\n",
       "  <th>Prob(Omnibus):</th> <td> 0.000</td>  <th>  Jarque-Bera (JB):  </th> <td>8742.142</td>\n",
       "</tr>\n",
       "<tr>\n",
       "  <th>Skew:</th>          <td> 2.361</td>  <th>  Prob(JB):          </th> <td>    0.00</td>\n",
       "</tr>\n",
       "<tr>\n",
       "  <th>Kurtosis:</th>      <td>15.543</td>  <th>  Cond. No.          </th> <td>    1.00</td>\n",
       "</tr>\n",
       "</table>"
      ],
      "text/plain": [
       "<class 'statsmodels.iolib.summary.Summary'>\n",
       "\"\"\"\n",
       "                            OLS Regression Results                            \n",
       "==============================================================================\n",
       "Dep. Variable:              SalePrice   R-squared:                       0.928\n",
       "Model:                            OLS   Adj. R-squared:                  0.928\n",
       "Method:                 Least Squares   F-statistic:                 1.496e+04\n",
       "Date:                Sat, 01 Oct 2016   Prob (F-statistic):               0.00\n",
       "Time:                        13:50:57   Log-Likelihood:                -14365.\n",
       "No. Observations:                1168   AIC:                         2.873e+04\n",
       "Df Residuals:                    1167   BIC:                         2.874e+04\n",
       "Df Model:                           1                                         \n",
       "Covariance Type:            nonrobust                                         \n",
       "===============================================================================\n",
       "                  coef    std err          t      P>|t|      [95.0% Conf. Int.]\n",
       "-------------------------------------------------------------------------------\n",
       "OverallQual  3.042e+04    248.677    122.327      0.000      2.99e+04  3.09e+04\n",
       "==============================================================================\n",
       "Omnibus:                      665.177   Durbin-Watson:                   1.987\n",
       "Prob(Omnibus):                  0.000   Jarque-Bera (JB):             8742.142\n",
       "Skew:                           2.361   Prob(JB):                         0.00\n",
       "Kurtosis:                      15.543   Cond. No.                         1.00\n",
       "==============================================================================\n",
       "\n",
       "Warnings:\n",
       "[1] Standard Errors assume that the covariance matrix of the errors is correctly specified.\n",
       "\"\"\""
      ]
     },
     "execution_count": 20,
     "metadata": {},
     "output_type": "execute_result"
    }
   ],
   "source": [
    "# Training a linear classifier (only on one)\n",
    "clf = sm.OLS(local_train[\"SalePrice\"], local_train['OverallQual'])\n",
    "results = clf.fit()\n",
    "results.summary()"
   ]
  },
  {
   "cell_type": "code",
   "execution_count": null,
   "metadata": {
    "collapsed": true
   },
   "outputs": [],
   "source": []
  },
  {
   "cell_type": "code",
   "execution_count": 21,
   "metadata": {
    "collapsed": false
   },
   "outputs": [],
   "source": [
    "# Training a linear classifier (only on numerical values)\n",
    "house_num_x = house_x.select_dtypes(include=['float64', 'int64'])\n",
    "#clf = sm.OLS(house_y, house_num_x)"
   ]
  },
  {
   "cell_type": "code",
   "execution_count": 22,
   "metadata": {
    "collapsed": false
   },
   "outputs": [
    {
     "data": {
      "text/html": [
       "<table class=\"simpletable\">\n",
       "<caption>OLS Regression Results</caption>\n",
       "<tr>\n",
       "  <th>Dep. Variable:</th>        <td>SalePrice</td>    <th>  R-squared:         </th> <td>   0.925</td> \n",
       "</tr>\n",
       "<tr>\n",
       "  <th>Model:</th>                   <td>OLS</td>       <th>  Adj. R-squared:    </th> <td>   0.923</td> \n",
       "</tr>\n",
       "<tr>\n",
       "  <th>Method:</th>             <td>Least Squares</td>  <th>  F-statistic:       </th> <td>   348.9</td> \n",
       "</tr>\n",
       "<tr>\n",
       "  <th>Date:</th>             <td>Sat, 01 Oct 2016</td> <th>  Prob (F-statistic):</th>  <td>  0.00</td>  \n",
       "</tr>\n",
       "<tr>\n",
       "  <th>Time:</th>                 <td>13:50:59</td>     <th>  Log-Likelihood:    </th> <td> -14385.</td> \n",
       "</tr>\n",
       "<tr>\n",
       "  <th>No. Observations:</th>      <td>  1168</td>      <th>  AIC:               </th> <td>2.885e+04</td>\n",
       "</tr>\n",
       "<tr>\n",
       "  <th>Df Residuals:</th>          <td>  1128</td>      <th>  BIC:               </th> <td>2.905e+04</td>\n",
       "</tr>\n",
       "<tr>\n",
       "  <th>Df Model:</th>              <td>    40</td>      <th>                     </th>     <td> </td>    \n",
       "</tr>\n",
       "<tr>\n",
       "  <th>Covariance Type:</th>      <td>nonrobust</td>    <th>                     </th>     <td> </td>    \n",
       "</tr>\n",
       "</table>\n",
       "<table class=\"simpletable\">\n",
       "<tr>\n",
       "            <td></td>              <th>coef</th>     <th>std err</th>      <th>t</th>      <th>P>|t|</th> <th>[95.0% Conf. Int.]</th> \n",
       "</tr>\n",
       "<tr>\n",
       "  <th>MSSubClass_30</th>        <td>-4.451e+04</td> <td> 9508.553</td> <td>   -4.681</td> <td> 0.000</td> <td>-6.32e+04 -2.59e+04</td>\n",
       "</tr>\n",
       "<tr>\n",
       "  <th>MSSubClass_40</th>        <td> 6941.0688</td> <td> 3.25e+04</td> <td>    0.214</td> <td> 0.831</td> <td>-5.68e+04  7.07e+04</td>\n",
       "</tr>\n",
       "<tr>\n",
       "  <th>MSSubClass_45</th>        <td>-3.841e+04</td> <td> 1.93e+04</td> <td>   -1.989</td> <td> 0.047</td> <td>-7.63e+04  -524.926</td>\n",
       "</tr>\n",
       "<tr>\n",
       "  <th>MSSubClass_50</th>        <td>-3723.0250</td> <td> 7394.752</td> <td>   -0.503</td> <td> 0.615</td> <td>-1.82e+04  1.08e+04</td>\n",
       "</tr>\n",
       "<tr>\n",
       "  <th>MSSubClass_60</th>        <td>  2.96e+04</td> <td> 5081.313</td> <td>    5.825</td> <td> 0.000</td> <td> 1.96e+04  3.96e+04</td>\n",
       "</tr>\n",
       "<tr>\n",
       "  <th>MSSubClass_70</th>        <td> 6767.3692</td> <td>    1e+04</td> <td>    0.676</td> <td> 0.499</td> <td>-1.29e+04  2.64e+04</td>\n",
       "</tr>\n",
       "<tr>\n",
       "  <th>MSSubClass_75</th>        <td> 4.528e+04</td> <td>  1.8e+04</td> <td>    2.519</td> <td> 0.012</td> <td>    1e+04  8.05e+04</td>\n",
       "</tr>\n",
       "<tr>\n",
       "  <th>MSSubClass_80</th>        <td>   17.5215</td> <td> 8789.647</td> <td>    0.002</td> <td> 0.998</td> <td>-1.72e+04  1.73e+04</td>\n",
       "</tr>\n",
       "<tr>\n",
       "  <th>MSSubClass_85</th>        <td>-7037.4528</td> <td> 1.41e+04</td> <td>   -0.499</td> <td> 0.618</td> <td>-3.47e+04  2.06e+04</td>\n",
       "</tr>\n",
       "<tr>\n",
       "  <th>MSSubClass_90</th>        <td>-1.569e+04</td> <td> 8836.319</td> <td>   -1.775</td> <td> 0.076</td> <td> -3.3e+04  1651.925</td>\n",
       "</tr>\n",
       "<tr>\n",
       "  <th>MSSubClass_120</th>       <td> 4325.2817</td> <td> 7458.527</td> <td>    0.580</td> <td> 0.562</td> <td>-1.03e+04   1.9e+04</td>\n",
       "</tr>\n",
       "<tr>\n",
       "  <th>MSSubClass_160</th>       <td>-5.032e+04</td> <td> 1.21e+04</td> <td>   -4.168</td> <td> 0.000</td> <td> -7.4e+04 -2.66e+04</td>\n",
       "</tr>\n",
       "<tr>\n",
       "  <th>MSSubClass_180</th>       <td>-5.044e+04</td> <td> 2.57e+04</td> <td>   -1.963</td> <td> 0.050</td> <td>-1.01e+05   -30.883</td>\n",
       "</tr>\n",
       "<tr>\n",
       "  <th>MSSubClass_190</th>       <td>-1.403e+04</td> <td> 1.27e+04</td> <td>   -1.102</td> <td> 0.271</td> <td> -3.9e+04  1.09e+04</td>\n",
       "</tr>\n",
       "<tr>\n",
       "  <th>PoolQC_Fa</th>            <td> 2.318e+04</td> <td> 3.95e+04</td> <td>    0.587</td> <td> 0.557</td> <td>-5.43e+04  1.01e+05</td>\n",
       "</tr>\n",
       "<tr>\n",
       "  <th>PoolQC_Gd</th>            <td> 4.686e+04</td> <td> 3.27e+04</td> <td>    1.433</td> <td> 0.152</td> <td>-1.73e+04  1.11e+05</td>\n",
       "</tr>\n",
       "<tr>\n",
       "  <th>Neighborhood_Blueste</th> <td> 1.743e+05</td> <td> 5.63e+04</td> <td>    3.098</td> <td> 0.002</td> <td> 6.39e+04  2.85e+05</td>\n",
       "</tr>\n",
       "<tr>\n",
       "  <th>Neighborhood_BrDale</th>  <td> 1.539e+05</td> <td> 1.86e+04</td> <td>    8.261</td> <td> 0.000</td> <td> 1.17e+05   1.9e+05</td>\n",
       "</tr>\n",
       "<tr>\n",
       "  <th>Neighborhood_BrkSide</th> <td>  1.38e+05</td> <td> 1.03e+04</td> <td>   13.445</td> <td> 0.000</td> <td> 1.18e+05  1.58e+05</td>\n",
       "</tr>\n",
       "<tr>\n",
       "  <th>Neighborhood_ClearCr</th> <td> 1.966e+05</td> <td> 1.24e+04</td> <td>   15.857</td> <td> 0.000</td> <td> 1.72e+05  2.21e+05</td>\n",
       "</tr>\n",
       "<tr>\n",
       "  <th>Neighborhood_CollgCr</th> <td> 1.858e+05</td> <td> 5468.059</td> <td>   33.979</td> <td> 0.000</td> <td> 1.75e+05  1.97e+05</td>\n",
       "</tr>\n",
       "<tr>\n",
       "  <th>Neighborhood_Crawfor</th> <td> 2.119e+05</td> <td> 1.01e+04</td> <td>   20.946</td> <td> 0.000</td> <td> 1.92e+05  2.32e+05</td>\n",
       "</tr>\n",
       "<tr>\n",
       "  <th>Neighborhood_Edwards</th> <td> 1.409e+05</td> <td> 7157.093</td> <td>   19.687</td> <td> 0.000</td> <td> 1.27e+05  1.55e+05</td>\n",
       "</tr>\n",
       "<tr>\n",
       "  <th>Neighborhood_Gilbert</th> <td> 1.707e+05</td> <td> 8287.636</td> <td>   20.597</td> <td> 0.000</td> <td> 1.54e+05  1.87e+05</td>\n",
       "</tr>\n",
       "<tr>\n",
       "  <th>Neighborhood_IDOTRR</th>  <td> 1.166e+05</td> <td> 1.14e+04</td> <td>   10.212</td> <td> 0.000</td> <td> 9.42e+04  1.39e+05</td>\n",
       "</tr>\n",
       "<tr>\n",
       "  <th>Neighborhood_MeadowV</th> <td> 1.425e+05</td> <td> 1.91e+04</td> <td>    7.465</td> <td> 0.000</td> <td> 1.05e+05   1.8e+05</td>\n",
       "</tr>\n",
       "<tr>\n",
       "  <th>Neighborhood_Mitchel</th> <td>  1.54e+05</td> <td> 9166.494</td> <td>   16.796</td> <td> 0.000</td> <td> 1.36e+05  1.72e+05</td>\n",
       "</tr>\n",
       "<tr>\n",
       "  <th>Neighborhood_NAmes</th>   <td>  1.45e+05</td> <td> 4382.499</td> <td>   33.081</td> <td> 0.000</td> <td> 1.36e+05  1.54e+05</td>\n",
       "</tr>\n",
       "<tr>\n",
       "  <th>Neighborhood_NPkVill</th> <td> 1.729e+05</td> <td> 2.12e+04</td> <td>    8.150</td> <td> 0.000</td> <td> 1.31e+05  2.14e+05</td>\n",
       "</tr>\n",
       "<tr>\n",
       "  <th>Neighborhood_NWAmes</th>  <td> 1.775e+05</td> <td> 7506.941</td> <td>   23.647</td> <td> 0.000</td> <td> 1.63e+05  1.92e+05</td>\n",
       "</tr>\n",
       "<tr>\n",
       "  <th>Neighborhood_NoRidge</th> <td> 3.136e+05</td> <td> 1.03e+04</td> <td>   30.318</td> <td> 0.000</td> <td> 2.93e+05  3.34e+05</td>\n",
       "</tr>\n",
       "<tr>\n",
       "  <th>Neighborhood_NridgHt</th> <td> 3.193e+05</td> <td> 7857.289</td> <td>   40.638</td> <td> 0.000</td> <td> 3.04e+05  3.35e+05</td>\n",
       "</tr>\n",
       "<tr>\n",
       "  <th>Neighborhood_OldTown</th> <td>  1.36e+05</td> <td> 8143.261</td> <td>   16.703</td> <td> 0.000</td> <td>  1.2e+05  1.52e+05</td>\n",
       "</tr>\n",
       "<tr>\n",
       "  <th>Neighborhood_SWISU</th>   <td> 1.443e+05</td> <td> 1.34e+04</td> <td>   10.790</td> <td> 0.000</td> <td> 1.18e+05  1.71e+05</td>\n",
       "</tr>\n",
       "<tr>\n",
       "  <th>Neighborhood_Sawyer</th>  <td> 1.389e+05</td> <td> 7466.268</td> <td>   18.599</td> <td> 0.000</td> <td> 1.24e+05  1.54e+05</td>\n",
       "</tr>\n",
       "<tr>\n",
       "  <th>Neighborhood_SawyerW</th> <td> 1.808e+05</td> <td> 8144.573</td> <td>   22.196</td> <td> 0.000</td> <td> 1.65e+05  1.97e+05</td>\n",
       "</tr>\n",
       "<tr>\n",
       "  <th>Neighborhood_Somerst</th> <td> 2.297e+05</td> <td> 7673.867</td> <td>   29.933</td> <td> 0.000</td> <td> 2.15e+05  2.45e+05</td>\n",
       "</tr>\n",
       "<tr>\n",
       "  <th>Neighborhood_StoneBr</th> <td> 3.034e+05</td> <td> 1.23e+04</td> <td>   24.682</td> <td> 0.000</td> <td> 2.79e+05  3.28e+05</td>\n",
       "</tr>\n",
       "<tr>\n",
       "  <th>Neighborhood_Timber</th>  <td> 2.353e+05</td> <td> 9572.006</td> <td>   24.580</td> <td> 0.000</td> <td> 2.16e+05  2.54e+05</td>\n",
       "</tr>\n",
       "<tr>\n",
       "  <th>Neighborhood_Veenker</th> <td> 2.349e+05</td> <td> 1.68e+04</td> <td>   13.976</td> <td> 0.000</td> <td> 2.02e+05  2.68e+05</td>\n",
       "</tr>\n",
       "</table>\n",
       "<table class=\"simpletable\">\n",
       "<tr>\n",
       "  <th>Omnibus:</th>       <td>516.545</td> <th>  Durbin-Watson:     </th> <td>   2.077</td>\n",
       "</tr>\n",
       "<tr>\n",
       "  <th>Prob(Omnibus):</th> <td> 0.000</td>  <th>  Jarque-Bera (JB):  </th> <td>4063.745</td>\n",
       "</tr>\n",
       "<tr>\n",
       "  <th>Skew:</th>          <td> 1.860</td>  <th>  Prob(JB):          </th> <td>    0.00</td>\n",
       "</tr>\n",
       "<tr>\n",
       "  <th>Kurtosis:</th>      <td>11.347</td>  <th>  Cond. No.          </th> <td>    16.8</td>\n",
       "</tr>\n",
       "</table>"
      ],
      "text/plain": [
       "<class 'statsmodels.iolib.summary.Summary'>\n",
       "\"\"\"\n",
       "                            OLS Regression Results                            \n",
       "==============================================================================\n",
       "Dep. Variable:              SalePrice   R-squared:                       0.925\n",
       "Model:                            OLS   Adj. R-squared:                  0.923\n",
       "Method:                 Least Squares   F-statistic:                     348.9\n",
       "Date:                Sat, 01 Oct 2016   Prob (F-statistic):               0.00\n",
       "Time:                        13:50:59   Log-Likelihood:                -14385.\n",
       "No. Observations:                1168   AIC:                         2.885e+04\n",
       "Df Residuals:                    1128   BIC:                         2.905e+04\n",
       "Df Model:                          40                                         \n",
       "Covariance Type:            nonrobust                                         \n",
       "========================================================================================\n",
       "                           coef    std err          t      P>|t|      [95.0% Conf. Int.]\n",
       "----------------------------------------------------------------------------------------\n",
       "MSSubClass_30        -4.451e+04   9508.553     -4.681      0.000     -6.32e+04 -2.59e+04\n",
       "MSSubClass_40         6941.0688   3.25e+04      0.214      0.831     -5.68e+04  7.07e+04\n",
       "MSSubClass_45        -3.841e+04   1.93e+04     -1.989      0.047     -7.63e+04  -524.926\n",
       "MSSubClass_50        -3723.0250   7394.752     -0.503      0.615     -1.82e+04  1.08e+04\n",
       "MSSubClass_60          2.96e+04   5081.313      5.825      0.000      1.96e+04  3.96e+04\n",
       "MSSubClass_70         6767.3692      1e+04      0.676      0.499     -1.29e+04  2.64e+04\n",
       "MSSubClass_75         4.528e+04    1.8e+04      2.519      0.012         1e+04  8.05e+04\n",
       "MSSubClass_80           17.5215   8789.647      0.002      0.998     -1.72e+04  1.73e+04\n",
       "MSSubClass_85        -7037.4528   1.41e+04     -0.499      0.618     -3.47e+04  2.06e+04\n",
       "MSSubClass_90        -1.569e+04   8836.319     -1.775      0.076      -3.3e+04  1651.925\n",
       "MSSubClass_120        4325.2817   7458.527      0.580      0.562     -1.03e+04   1.9e+04\n",
       "MSSubClass_160       -5.032e+04   1.21e+04     -4.168      0.000      -7.4e+04 -2.66e+04\n",
       "MSSubClass_180       -5.044e+04   2.57e+04     -1.963      0.050     -1.01e+05   -30.883\n",
       "MSSubClass_190       -1.403e+04   1.27e+04     -1.102      0.271      -3.9e+04  1.09e+04\n",
       "PoolQC_Fa             2.318e+04   3.95e+04      0.587      0.557     -5.43e+04  1.01e+05\n",
       "PoolQC_Gd             4.686e+04   3.27e+04      1.433      0.152     -1.73e+04  1.11e+05\n",
       "Neighborhood_Blueste  1.743e+05   5.63e+04      3.098      0.002      6.39e+04  2.85e+05\n",
       "Neighborhood_BrDale   1.539e+05   1.86e+04      8.261      0.000      1.17e+05   1.9e+05\n",
       "Neighborhood_BrkSide   1.38e+05   1.03e+04     13.445      0.000      1.18e+05  1.58e+05\n",
       "Neighborhood_ClearCr  1.966e+05   1.24e+04     15.857      0.000      1.72e+05  2.21e+05\n",
       "Neighborhood_CollgCr  1.858e+05   5468.059     33.979      0.000      1.75e+05  1.97e+05\n",
       "Neighborhood_Crawfor  2.119e+05   1.01e+04     20.946      0.000      1.92e+05  2.32e+05\n",
       "Neighborhood_Edwards  1.409e+05   7157.093     19.687      0.000      1.27e+05  1.55e+05\n",
       "Neighborhood_Gilbert  1.707e+05   8287.636     20.597      0.000      1.54e+05  1.87e+05\n",
       "Neighborhood_IDOTRR   1.166e+05   1.14e+04     10.212      0.000      9.42e+04  1.39e+05\n",
       "Neighborhood_MeadowV  1.425e+05   1.91e+04      7.465      0.000      1.05e+05   1.8e+05\n",
       "Neighborhood_Mitchel   1.54e+05   9166.494     16.796      0.000      1.36e+05  1.72e+05\n",
       "Neighborhood_NAmes     1.45e+05   4382.499     33.081      0.000      1.36e+05  1.54e+05\n",
       "Neighborhood_NPkVill  1.729e+05   2.12e+04      8.150      0.000      1.31e+05  2.14e+05\n",
       "Neighborhood_NWAmes   1.775e+05   7506.941     23.647      0.000      1.63e+05  1.92e+05\n",
       "Neighborhood_NoRidge  3.136e+05   1.03e+04     30.318      0.000      2.93e+05  3.34e+05\n",
       "Neighborhood_NridgHt  3.193e+05   7857.289     40.638      0.000      3.04e+05  3.35e+05\n",
       "Neighborhood_OldTown   1.36e+05   8143.261     16.703      0.000       1.2e+05  1.52e+05\n",
       "Neighborhood_SWISU    1.443e+05   1.34e+04     10.790      0.000      1.18e+05  1.71e+05\n",
       "Neighborhood_Sawyer   1.389e+05   7466.268     18.599      0.000      1.24e+05  1.54e+05\n",
       "Neighborhood_SawyerW  1.808e+05   8144.573     22.196      0.000      1.65e+05  1.97e+05\n",
       "Neighborhood_Somerst  2.297e+05   7673.867     29.933      0.000      2.15e+05  2.45e+05\n",
       "Neighborhood_StoneBr  3.034e+05   1.23e+04     24.682      0.000      2.79e+05  3.28e+05\n",
       "Neighborhood_Timber   2.353e+05   9572.006     24.580      0.000      2.16e+05  2.54e+05\n",
       "Neighborhood_Veenker  2.349e+05   1.68e+04     13.976      0.000      2.02e+05  2.68e+05\n",
       "==============================================================================\n",
       "Omnibus:                      516.545   Durbin-Watson:                   2.077\n",
       "Prob(Omnibus):                  0.000   Jarque-Bera (JB):             4063.745\n",
       "Skew:                           1.860   Prob(JB):                         0.00\n",
       "Kurtosis:                      11.347   Cond. No.                         16.8\n",
       "==============================================================================\n",
       "\n",
       "Warnings:\n",
       "[1] Standard Errors assume that the covariance matrix of the errors is correctly specified.\n",
       "\"\"\""
      ]
     },
     "execution_count": 22,
     "metadata": {},
     "output_type": "execute_result"
    }
   ],
   "source": [
    "# Running a model on a few categorical data columns (PoolQC, MSSubClass, Neighborhood)\n",
    "\n",
    "local_train, local_test = train_test_split(house,test_size=0.2,random_state=123)\n",
    "local_train_y = local_train[\"SalePrice\"]\n",
    "local_train_x = local_train.drop([\"SalePrice\"],axis=1)\n",
    "local_train_x = local_train_x[desired_columns]\n",
    "local_test_y = local_test[\"SalePrice\"]\n",
    "local_test_x = local_test.drop(\"SalePrice\",axis=1)\n",
    "local_test_x = local_test[desired_columns]\n",
    "\n",
    "clf = sm.OLS(local_train_y,local_train_x)\n",
    "result = clf.fit()\n",
    "result.summary()"
   ]
  },
  {
   "cell_type": "code",
   "execution_count": 23,
   "metadata": {
    "collapsed": false
   },
   "outputs": [
    {
     "data": {
      "text/plain": [
       "57301.521862027083"
      ]
     },
     "execution_count": 23,
     "metadata": {},
     "output_type": "execute_result"
    }
   ],
   "source": [
    "preds = result.predict(local_test_x)\n",
    "\n",
    "n = local_test_y.shape[0]\n",
    "np.sqrt((1/n)*np.sum((local_test_y - preds)**2))"
   ]
  },
  {
   "cell_type": "code",
   "execution_count": null,
   "metadata": {
    "collapsed": true
   },
   "outputs": [],
   "source": []
  },
  {
   "cell_type": "code",
   "execution_count": null,
   "metadata": {
    "collapsed": true
   },
   "outputs": [],
   "source": []
  }
 ],
 "metadata": {
  "anaconda-cloud": {},
  "kernelspec": {
   "display_name": "Python [Root]",
   "language": "python",
   "name": "Python [Root]"
  },
  "language_info": {
   "codemirror_mode": {
    "name": "ipython",
    "version": 3
   },
   "file_extension": ".py",
   "mimetype": "text/x-python",
   "name": "python",
   "nbconvert_exporter": "python",
   "pygments_lexer": "ipython3",
   "version": "3.5.2"
  }
 },
 "nbformat": 4,
 "nbformat_minor": 0
}
