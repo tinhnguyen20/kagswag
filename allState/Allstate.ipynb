{
 "cells": [
  {
   "cell_type": "code",
   "execution_count": 1,
   "metadata": {
    "collapsed": true
   },
   "outputs": [],
   "source": [
    "%matplotlib inline\n",
    "import numpy as np\n",
    "import pandas as pd\n",
    "import matplotlib.pyplot as plt\n",
    "import seaborn as sns\n",
    "import re\n",
    "\n",
    "from sklearn import datasets\n",
    "from matplotlib.colors import ListedColormap\n",
    "from sklearn.cross_validation import cross_val_score, train_test_split\n",
    "from sklearn.neighbors import KNeighborsClassifier as KNN\n",
    "from sklearn import linear_model\n",
    "from sklearn.linear_model import LogisticRegression, RidgeClassifier\n",
    "from scipy.stats import chisquare"
   ]
  },
  {
   "cell_type": "markdown",
   "metadata": {},
   "source": [
    "# Allstate Claims Severity\n",
    "#### By Tinh Nguyen, Suman Tripathy, AC Dela Paz, Joelynn Deng"
   ]
  },
  {
   "cell_type": "code",
   "execution_count": 2,
   "metadata": {
    "collapsed": false
   },
   "outputs": [],
   "source": [
    "# Importing data\n",
    "train = pd.read_csv(\"data/train.csv\")\n",
    "test = pd.read_csv(\"data/test.csv\")   # save til end\n",
    "\n",
    "train_y = train['loss']\n",
    "train_X = train.drop('loss', axis=1)"
   ]
  },
  {
   "cell_type": "code",
   "execution_count": 3,
   "metadata": {
    "collapsed": false
   },
   "outputs": [],
   "source": [
    "train_X = train_X.drop('id', axis=1)"
   ]
  },
  {
   "cell_type": "code",
   "execution_count": 4,
   "metadata": {
    "collapsed": false
   },
   "outputs": [],
   "source": [
    "local_train_X, local_test_X, local_train_y, local_test_y = train_test_split(train_X, train_y, test_size=0.2) "
   ]
  },
  {
   "cell_type": "markdown",
   "metadata": {},
   "source": [
    "## Data Exploration\n",
    "\n",
    "In this section of the notebook, we'll conduct\n",
    " - Null values\n",
    " - Standard statistical analysis\n",
    " - Correlation"
   ]
  },
  {
   "cell_type": "code",
   "execution_count": 5,
   "metadata": {
    "collapsed": false
   },
   "outputs": [
    {
     "name": "stdout",
     "output_type": "stream",
     "text": [
      "['id', 'cat1', 'cat2', 'cat3', 'cat4', 'cat5', 'cat6', 'cat7', 'cat8', 'cat9', 'cat10', 'cat11', 'cat12', 'cat13', 'cat14', 'cat15', 'cat16', 'cat17', 'cat18', 'cat19', 'cat20', 'cat21', 'cat22', 'cat23', 'cat24', 'cat25', 'cat26', 'cat27', 'cat28', 'cat29', 'cat30', 'cat31', 'cat32', 'cat33', 'cat34', 'cat35', 'cat36', 'cat37', 'cat38', 'cat39', 'cat40', 'cat41', 'cat42', 'cat43', 'cat44', 'cat45', 'cat46', 'cat47', 'cat48', 'cat49', 'cat50', 'cat51', 'cat52', 'cat53', 'cat54', 'cat55', 'cat56', 'cat57', 'cat58', 'cat59', 'cat60', 'cat61', 'cat62', 'cat63', 'cat64', 'cat65', 'cat66', 'cat67', 'cat68', 'cat69', 'cat70', 'cat71', 'cat72', 'cat73', 'cat74', 'cat75', 'cat76', 'cat77', 'cat78', 'cat79', 'cat80', 'cat81', 'cat82', 'cat83', 'cat84', 'cat85', 'cat86', 'cat87', 'cat88', 'cat89', 'cat90', 'cat91', 'cat92', 'cat93', 'cat94', 'cat95', 'cat96', 'cat97', 'cat98', 'cat99', 'cat100', 'cat101', 'cat102', 'cat103', 'cat104', 'cat105', 'cat106', 'cat107', 'cat108', 'cat109', 'cat110', 'cat111', 'cat112', 'cat113', 'cat114', 'cat115', 'cat116', 'cont1', 'cont2', 'cont3', 'cont4', 'cont5', 'cont6', 'cont7', 'cont8', 'cont9', 'cont10', 'cont11', 'cont12', 'cont13', 'cont14', 'loss']\n"
     ]
    }
   ],
   "source": [
    "print(list(train.columns))"
   ]
  },
  {
   "cell_type": "code",
   "execution_count": 6,
   "metadata": {
    "collapsed": false
   },
   "outputs": [
    {
     "name": "stdout",
     "output_type": "stream",
     "text": [
      "Number of null values:  0\n"
     ]
    }
   ],
   "source": [
    "print(\"Number of null values: \", train.isnull().sum().sum())"
   ]
  },
  {
   "cell_type": "code",
   "execution_count": 7,
   "metadata": {
    "collapsed": false
   },
   "outputs": [
    {
     "data": {
      "text/html": [
       "<div>\n",
       "<table border=\"1\" class=\"dataframe\">\n",
       "  <thead>\n",
       "    <tr style=\"text-align: right;\">\n",
       "      <th></th>\n",
       "      <th>cont1</th>\n",
       "      <th>cont2</th>\n",
       "      <th>cont3</th>\n",
       "      <th>cont4</th>\n",
       "      <th>cont5</th>\n",
       "      <th>cont6</th>\n",
       "      <th>cont7</th>\n",
       "      <th>cont8</th>\n",
       "      <th>cont9</th>\n",
       "      <th>cont10</th>\n",
       "      <th>cont11</th>\n",
       "      <th>cont12</th>\n",
       "      <th>cont13</th>\n",
       "      <th>cont14</th>\n",
       "    </tr>\n",
       "  </thead>\n",
       "  <tbody>\n",
       "    <tr>\n",
       "      <th>count</th>\n",
       "      <td>150654.000000</td>\n",
       "      <td>150654.000000</td>\n",
       "      <td>150654.000000</td>\n",
       "      <td>150654.000000</td>\n",
       "      <td>150654.000000</td>\n",
       "      <td>150654.000000</td>\n",
       "      <td>150654.000000</td>\n",
       "      <td>150654.000000</td>\n",
       "      <td>150654.000000</td>\n",
       "      <td>150654.000000</td>\n",
       "      <td>150654.000000</td>\n",
       "      <td>150654.000000</td>\n",
       "      <td>150654.000000</td>\n",
       "      <td>150654.000000</td>\n",
       "    </tr>\n",
       "    <tr>\n",
       "      <th>mean</th>\n",
       "      <td>0.493967</td>\n",
       "      <td>0.507165</td>\n",
       "      <td>0.498869</td>\n",
       "      <td>0.492037</td>\n",
       "      <td>0.487580</td>\n",
       "      <td>0.490991</td>\n",
       "      <td>0.484789</td>\n",
       "      <td>0.486532</td>\n",
       "      <td>0.485582</td>\n",
       "      <td>0.498144</td>\n",
       "      <td>0.493409</td>\n",
       "      <td>0.493024</td>\n",
       "      <td>0.493247</td>\n",
       "      <td>0.495902</td>\n",
       "    </tr>\n",
       "    <tr>\n",
       "      <th>std</th>\n",
       "      <td>0.187615</td>\n",
       "      <td>0.207113</td>\n",
       "      <td>0.202001</td>\n",
       "      <td>0.211215</td>\n",
       "      <td>0.209056</td>\n",
       "      <td>0.205348</td>\n",
       "      <td>0.178106</td>\n",
       "      <td>0.199514</td>\n",
       "      <td>0.181682</td>\n",
       "      <td>0.185845</td>\n",
       "      <td>0.209708</td>\n",
       "      <td>0.209372</td>\n",
       "      <td>0.212902</td>\n",
       "      <td>0.222464</td>\n",
       "    </tr>\n",
       "    <tr>\n",
       "      <th>min</th>\n",
       "      <td>0.000016</td>\n",
       "      <td>0.001149</td>\n",
       "      <td>0.002634</td>\n",
       "      <td>0.176921</td>\n",
       "      <td>0.281143</td>\n",
       "      <td>0.012683</td>\n",
       "      <td>0.069503</td>\n",
       "      <td>0.236880</td>\n",
       "      <td>0.000080</td>\n",
       "      <td>0.000000</td>\n",
       "      <td>0.035321</td>\n",
       "      <td>0.036232</td>\n",
       "      <td>0.000228</td>\n",
       "      <td>0.179722</td>\n",
       "    </tr>\n",
       "    <tr>\n",
       "      <th>25%</th>\n",
       "      <td>0.347403</td>\n",
       "      <td>0.358319</td>\n",
       "      <td>0.336963</td>\n",
       "      <td>0.327354</td>\n",
       "      <td>0.281143</td>\n",
       "      <td>0.336105</td>\n",
       "      <td>0.350175</td>\n",
       "      <td>0.312800</td>\n",
       "      <td>0.358970</td>\n",
       "      <td>0.364580</td>\n",
       "      <td>0.310961</td>\n",
       "      <td>0.308395</td>\n",
       "      <td>0.315758</td>\n",
       "      <td>0.294772</td>\n",
       "    </tr>\n",
       "    <tr>\n",
       "      <th>50%</th>\n",
       "      <td>0.475784</td>\n",
       "      <td>0.555782</td>\n",
       "      <td>0.527991</td>\n",
       "      <td>0.452887</td>\n",
       "      <td>0.422268</td>\n",
       "      <td>0.440945</td>\n",
       "      <td>0.438285</td>\n",
       "      <td>0.441060</td>\n",
       "      <td>0.441450</td>\n",
       "      <td>0.461190</td>\n",
       "      <td>0.457203</td>\n",
       "      <td>0.462286</td>\n",
       "      <td>0.363547</td>\n",
       "      <td>0.407411</td>\n",
       "    </tr>\n",
       "    <tr>\n",
       "      <th>75%</th>\n",
       "      <td>0.623912</td>\n",
       "      <td>0.681761</td>\n",
       "      <td>0.634224</td>\n",
       "      <td>0.652072</td>\n",
       "      <td>0.643315</td>\n",
       "      <td>0.654224</td>\n",
       "      <td>0.590687</td>\n",
       "      <td>0.623580</td>\n",
       "      <td>0.566820</td>\n",
       "      <td>0.614590</td>\n",
       "      <td>0.678924</td>\n",
       "      <td>0.675759</td>\n",
       "      <td>0.689974</td>\n",
       "      <td>0.724635</td>\n",
       "    </tr>\n",
       "    <tr>\n",
       "      <th>max</th>\n",
       "      <td>0.984975</td>\n",
       "      <td>0.862654</td>\n",
       "      <td>0.944251</td>\n",
       "      <td>0.952482</td>\n",
       "      <td>0.983674</td>\n",
       "      <td>0.997162</td>\n",
       "      <td>1.000000</td>\n",
       "      <td>0.980200</td>\n",
       "      <td>0.995400</td>\n",
       "      <td>0.994980</td>\n",
       "      <td>0.998742</td>\n",
       "      <td>0.998484</td>\n",
       "      <td>0.988494</td>\n",
       "      <td>0.844844</td>\n",
       "    </tr>\n",
       "  </tbody>\n",
       "</table>\n",
       "</div>"
      ],
      "text/plain": [
       "               cont1          cont2          cont3          cont4  \\\n",
       "count  150654.000000  150654.000000  150654.000000  150654.000000   \n",
       "mean        0.493967       0.507165       0.498869       0.492037   \n",
       "std         0.187615       0.207113       0.202001       0.211215   \n",
       "min         0.000016       0.001149       0.002634       0.176921   \n",
       "25%         0.347403       0.358319       0.336963       0.327354   \n",
       "50%         0.475784       0.555782       0.527991       0.452887   \n",
       "75%         0.623912       0.681761       0.634224       0.652072   \n",
       "max         0.984975       0.862654       0.944251       0.952482   \n",
       "\n",
       "               cont5          cont6          cont7          cont8  \\\n",
       "count  150654.000000  150654.000000  150654.000000  150654.000000   \n",
       "mean        0.487580       0.490991       0.484789       0.486532   \n",
       "std         0.209056       0.205348       0.178106       0.199514   \n",
       "min         0.281143       0.012683       0.069503       0.236880   \n",
       "25%         0.281143       0.336105       0.350175       0.312800   \n",
       "50%         0.422268       0.440945       0.438285       0.441060   \n",
       "75%         0.643315       0.654224       0.590687       0.623580   \n",
       "max         0.983674       0.997162       1.000000       0.980200   \n",
       "\n",
       "               cont9         cont10         cont11         cont12  \\\n",
       "count  150654.000000  150654.000000  150654.000000  150654.000000   \n",
       "mean        0.485582       0.498144       0.493409       0.493024   \n",
       "std         0.181682       0.185845       0.209708       0.209372   \n",
       "min         0.000080       0.000000       0.035321       0.036232   \n",
       "25%         0.358970       0.364580       0.310961       0.308395   \n",
       "50%         0.441450       0.461190       0.457203       0.462286   \n",
       "75%         0.566820       0.614590       0.678924       0.675759   \n",
       "max         0.995400       0.994980       0.998742       0.998484   \n",
       "\n",
       "              cont13         cont14  \n",
       "count  150654.000000  150654.000000  \n",
       "mean        0.493247       0.495902  \n",
       "std         0.212902       0.222464  \n",
       "min         0.000228       0.179722  \n",
       "25%         0.315758       0.294772  \n",
       "50%         0.363547       0.407411  \n",
       "75%         0.689974       0.724635  \n",
       "max         0.988494       0.844844  "
      ]
     },
     "execution_count": 7,
     "metadata": {},
     "output_type": "execute_result"
    }
   ],
   "source": [
    "local_train_X.describe()"
   ]
  },
  {
   "cell_type": "code",
   "execution_count": null,
   "metadata": {
    "collapsed": false
   },
   "outputs": [],
   "source": []
  },
  {
   "cell_type": "code",
   "execution_count": 8,
   "metadata": {
    "collapsed": false
   },
   "outputs": [
    {
     "data": {
      "text/plain": [
       "<matplotlib.axes._subplots.AxesSubplot at 0x115321860>"
      ]
     },
     "execution_count": 8,
     "metadata": {},
     "output_type": "execute_result"
    },
    {
     "data": {
      "image/png": "[encoded data removed]",
      "text/plain": [
       "<matplotlib.figure.Figure at 0x115283080>"
      ]
     },
     "metadata": {},
     "output_type": "display_data"
    }
   ],
   "source": [
    "p = re.compile('cont[0-9]+')\n",
    "\n",
    "cont_features = [c for c in train.columns if p.match(c)]\n",
    "plt.figure(figsize=(15, 10))\n",
    "sns.boxplot(data=local_train_X[cont_features])"
   ]
  },
  {
   "cell_type": "code",
   "execution_count": 9,
   "metadata": {
    "collapsed": false,
    "scrolled": true
   },
   "outputs": [
    {
     "data": {
      "text/plain": [
       "<matplotlib.axes._subplots.AxesSubplot at 0x1151a0cf8>"
      ]
     },
     "execution_count": 9,
     "metadata": {},
     "output_type": "execute_result"
    },
    {
     "data": {
      "image/png": "[encoded data removed]",
      "text/plain": [
       "<matplotlib.figure.Figure at 0x11518ff60>"
      ]
     },
     "metadata": {},
     "output_type": "display_data"
    }
   ],
   "source": [
    "corr = local_train_X[cont_features].iloc[:, 1:].corr()\n",
    "plt.figure(figsize=(12, 12))\n",
    "sns.heatmap(corr, vmax=1, square=True)"
   ]
  },
  {
   "cell_type": "code",
   "execution_count": 10,
   "metadata": {
    "collapsed": false
   },
   "outputs": [
    {
     "name": "stderr",
     "output_type": "stream",
     "text": [
      "/Users/tinhnguyen/anaconda3/lib/python3.5/site-packages/ipykernel/__main__.py:3: FutureWarning: order is deprecated, use sort_values(...)\n",
      "  app.launch_new_instance()\n"
     ]
    }
   ],
   "source": [
    "# What are the most correlated variables?\n",
    "s = corr.abs().unstack()\n",
    "sorted_corr = s.order(kind='quicksort', ascending=False)\n",
    "sorted_corr = sorted_corr[sorted_corr != 1.0]"
   ]
  },
  {
   "cell_type": "code",
   "execution_count": 11,
   "metadata": {
    "collapsed": false
   },
   "outputs": [
    {
     "data": {
      "text/plain": [
       "cont11  cont12    0.994449\n",
       "cont6   cont10    0.883550\n",
       "cont13  cont6     0.815522\n",
       "cont6   cont9     0.797959\n",
       "cont9   cont10    0.785342\n",
       "cont12  cont6     0.784952\n",
       "cont6   cont11    0.773747\n",
       "cont11  cont7     0.746587\n",
       "cont7   cont12    0.742091\n",
       "cont10  cont12    0.714099\n",
       "dtype: float64"
      ]
     },
     "execution_count": 11,
     "metadata": {},
     "output_type": "execute_result"
    }
   ],
   "source": [
    "# Top 10 Correlations\n",
    "sorted_corr.drop_duplicates()[:10]"
   ]
  },
  {
   "cell_type": "markdown",
   "metadata": {},
   "source": [
    "## Feature Engineering\n",
    "\n",
    "Take a look at dmi3kno's kernel on feature engineering. (https://www.kaggle.com/dmi3kno/allstate-claims-severity/all-the-allstate-states-eda/code)\n",
    "    - Can we extract states from the data?\n",
    "    - From dmi3kno's kernel, we gain some insight to see how to make sense of the categorical variables.\n",
    "    - Looking at cat112, there are 51, So let's try to cross correlate with population data (https://www.census.gov/popest/data/state/totals/2015/tables/NST-EST2015-01.csv)"
   ]
  },
  {
   "cell_type": "code",
   "execution_count": 14,
   "metadata": {
    "collapsed": false
   },
   "outputs": [
    {
     "data": {
      "text/plain": [
       "[('id', False),\n",
       " ('cat1', True),\n",
       " ('cat2', True),\n",
       " ('cat3', True),\n",
       " ('cat4', True),\n",
       " ('cat5', True),\n",
       " ('cat6', True),\n",
       " ('cat7', True),\n",
       " ('cat8', True),\n",
       " ('cat9', True),\n",
       " ('cat10', True),\n",
       " ('cat11', True),\n",
       " ('cat12', True),\n",
       " ('cat13', True),\n",
       " ('cat14', True),\n",
       " ('cat15', True),\n",
       " ('cat16', True),\n",
       " ('cat17', True),\n",
       " ('cat18', True),\n",
       " ('cat19', True),\n",
       " ('cat20', True),\n",
       " ('cat21', True),\n",
       " ('cat22', True),\n",
       " ('cat23', True),\n",
       " ('cat24', True),\n",
       " ('cat25', True),\n",
       " ('cat26', True),\n",
       " ('cat27', True),\n",
       " ('cat28', True),\n",
       " ('cat29', True),\n",
       " ('cat30', True),\n",
       " ('cat31', True),\n",
       " ('cat32', True),\n",
       " ('cat33', True),\n",
       " ('cat34', True),\n",
       " ('cat35', True),\n",
       " ('cat36', True),\n",
       " ('cat37', True),\n",
       " ('cat38', True),\n",
       " ('cat39', True),\n",
       " ('cat40', True),\n",
       " ('cat41', True),\n",
       " ('cat42', True),\n",
       " ('cat43', True),\n",
       " ('cat44', True),\n",
       " ('cat45', True),\n",
       " ('cat46', True),\n",
       " ('cat47', True),\n",
       " ('cat48', True),\n",
       " ('cat49', True),\n",
       " ('cat50', True),\n",
       " ('cat51', True),\n",
       " ('cat52', True),\n",
       " ('cat53', True),\n",
       " ('cat54', True),\n",
       " ('cat55', True),\n",
       " ('cat56', True),\n",
       " ('cat57', True),\n",
       " ('cat58', True),\n",
       " ('cat59', True),\n",
       " ('cat60', True),\n",
       " ('cat61', True),\n",
       " ('cat62', True),\n",
       " ('cat63', True),\n",
       " ('cat64', True),\n",
       " ('cat65', True),\n",
       " ('cat66', True),\n",
       " ('cat67', True),\n",
       " ('cat68', True),\n",
       " ('cat69', True),\n",
       " ('cat70', True),\n",
       " ('cat71', True),\n",
       " ('cat72', True),\n",
       " ('cat73', True),\n",
       " ('cat74', True),\n",
       " ('cat75', True),\n",
       " ('cat76', True),\n",
       " ('cat77', True),\n",
       " ('cat78', True),\n",
       " ('cat79', True),\n",
       " ('cat80', True),\n",
       " ('cat81', True),\n",
       " ('cat82', True),\n",
       " ('cat83', True),\n",
       " ('cat84', True),\n",
       " ('cat85', True),\n",
       " ('cat86', True),\n",
       " ('cat87', True),\n",
       " ('cat88', True),\n",
       " ('cat89', True),\n",
       " ('cat90', False),\n",
       " ('cat91', True),\n",
       " ('cat92', False),\n",
       " ('cat93', True),\n",
       " ('cat94', True),\n",
       " ('cat95', True),\n",
       " ('cat96', False),\n",
       " ('cat97', True),\n",
       " ('cat98', True),\n",
       " ('cat99', False),\n",
       " ('cat100', True),\n",
       " ('cat101', False),\n",
       " ('cat102', False),\n",
       " ('cat103', False),\n",
       " ('cat104', True),\n",
       " ('cat105', False),\n",
       " ('cat106', False),\n",
       " ('cat107', True),\n",
       " ('cat108', True),\n",
       " ('cat109', False),\n",
       " ('cat110', False),\n",
       " ('cat111', True),\n",
       " ('cat112', True),\n",
       " ('cat113', False),\n",
       " ('cat114', False),\n",
       " ('cat115', True),\n",
       " ('cat116', False),\n",
       " ('cont1', False),\n",
       " ('cont2', True),\n",
       " ('cont3', False),\n",
       " ('cont4', True),\n",
       " ('cont5', False),\n",
       " ('cont6', False),\n",
       " ('cont7', False),\n",
       " ('cont8', False),\n",
       " ('cont9', False),\n",
       " ('cont10', False),\n",
       " ('cont11', False),\n",
       " ('cont12', False),\n",
       " ('cont13', False),\n",
       " ('cont14', False)]"
      ]
     },
     "execution_count": 14,
     "metadata": {},
     "output_type": "execute_result"
    }
   ],
   "source": [
    "# Number of unique variables for each column\n",
    "[(col, train[col].nunique() == test[col].nunique()) for col in test.columns]"
   ]
  },
  {
   "cell_type": "code",
   "execution_count": null,
   "metadata": {
    "collapsed": true
   },
   "outputs": [],
   "source": []
  },
  {
   "cell_type": "code",
   "execution_count": 15,
   "metadata": {
    "collapsed": false
   },
   "outputs": [],
   "source": [
    "state_pop = pd.read_csv('https://www.census.gov/popest/data/state/totals/2015/tables/NST-EST2015-01.csv')\n",
    "# Grabbing necessary rows only\n",
    "new_columns = state_pop.loc[2, :]\n",
    "new_columns[0] = 'State'\n",
    "state_pop = state_pop.loc[range(8, 59),:]\n",
    "state_pop.columns = new_columns"
   ]
  },
  {
   "cell_type": "code",
   "execution_count": 16,
   "metadata": {
    "collapsed": false
   },
   "outputs": [],
   "source": [
    "# Converting from string ('249,924' -> 249924.0)\n",
    "int_cols = ['Census', 'Estimates Base', '2010', '2011', '2012', '2013', '2014', '2015']\n",
    "for col in int_cols:\n",
    "    state_pop[col] = state_pop[col].map(lambda x: x.replace(',', '')).astype(float)"
   ]
  },
  {
   "cell_type": "code",
   "execution_count": 17,
   "metadata": {
    "collapsed": false
   },
   "outputs": [
    {
     "data": {
      "text/html": [
       "<div>\n",
       "<table border=\"1\" class=\"dataframe\">\n",
       "  <thead>\n",
       "    <tr style=\"text-align: right;\">\n",
       "      <th>2</th>\n",
       "      <th>State</th>\n",
       "      <th>Census</th>\n",
       "      <th>Estimates Base</th>\n",
       "      <th>2010</th>\n",
       "      <th>2011</th>\n",
       "      <th>2012</th>\n",
       "      <th>2013</th>\n",
       "      <th>2014</th>\n",
       "      <th>2015</th>\n",
       "      <th>freq</th>\n",
       "    </tr>\n",
       "  </thead>\n",
       "  <tbody>\n",
       "    <tr>\n",
       "      <th>8</th>\n",
       "      <td>.Alabama</td>\n",
       "      <td>4779736.0</td>\n",
       "      <td>4780127.0</td>\n",
       "      <td>4785161.0</td>\n",
       "      <td>4801108.0</td>\n",
       "      <td>4816089.0</td>\n",
       "      <td>4830533.0</td>\n",
       "      <td>4846411.0</td>\n",
       "      <td>4858979.0</td>\n",
       "      <td>0.015481</td>\n",
       "    </tr>\n",
       "    <tr>\n",
       "      <th>9</th>\n",
       "      <td>.Alaska</td>\n",
       "      <td>710231.0</td>\n",
       "      <td>710249.0</td>\n",
       "      <td>714021.0</td>\n",
       "      <td>722720.0</td>\n",
       "      <td>731228.0</td>\n",
       "      <td>737442.0</td>\n",
       "      <td>737046.0</td>\n",
       "      <td>738432.0</td>\n",
       "      <td>0.002300</td>\n",
       "    </tr>\n",
       "    <tr>\n",
       "      <th>10</th>\n",
       "      <td>.Arizona</td>\n",
       "      <td>6392017.0</td>\n",
       "      <td>6392307.0</td>\n",
       "      <td>6408208.0</td>\n",
       "      <td>6468732.0</td>\n",
       "      <td>6553262.0</td>\n",
       "      <td>6630799.0</td>\n",
       "      <td>6728783.0</td>\n",
       "      <td>6828065.0</td>\n",
       "      <td>0.020703</td>\n",
       "    </tr>\n",
       "    <tr>\n",
       "      <th>11</th>\n",
       "      <td>.Arkansas</td>\n",
       "      <td>2915918.0</td>\n",
       "      <td>2915958.0</td>\n",
       "      <td>2922394.0</td>\n",
       "      <td>2938538.0</td>\n",
       "      <td>2949499.0</td>\n",
       "      <td>2957957.0</td>\n",
       "      <td>2966835.0</td>\n",
       "      <td>2978204.0</td>\n",
       "      <td>0.009444</td>\n",
       "    </tr>\n",
       "    <tr>\n",
       "      <th>12</th>\n",
       "      <td>.California</td>\n",
       "      <td>37253956.0</td>\n",
       "      <td>37254503.0</td>\n",
       "      <td>37334079.0</td>\n",
       "      <td>37700034.0</td>\n",
       "      <td>38056055.0</td>\n",
       "      <td>38414128.0</td>\n",
       "      <td>38792291.0</td>\n",
       "      <td>39144818.0</td>\n",
       "      <td>0.120662</td>\n",
       "    </tr>\n",
       "  </tbody>\n",
       "</table>\n",
       "</div>"
      ],
      "text/plain": [
       "2         State      Census  Estimates Base        2010        2011  \\\n",
       "8      .Alabama   4779736.0       4780127.0   4785161.0   4801108.0   \n",
       "9       .Alaska    710231.0        710249.0    714021.0    722720.0   \n",
       "10     .Arizona   6392017.0       6392307.0   6408208.0   6468732.0   \n",
       "11    .Arkansas   2915918.0       2915958.0   2922394.0   2938538.0   \n",
       "12  .California  37253956.0      37254503.0  37334079.0  37700034.0   \n",
       "\n",
       "2         2012        2013        2014        2015      freq  \n",
       "8    4816089.0   4830533.0   4846411.0   4858979.0  0.015481  \n",
       "9     731228.0    737442.0    737046.0    738432.0  0.002300  \n",
       "10   6553262.0   6630799.0   6728783.0   6828065.0  0.020703  \n",
       "11   2949499.0   2957957.0   2966835.0   2978204.0  0.009444  \n",
       "12  38056055.0  38414128.0  38792291.0  39144818.0  0.120662  "
      ]
     },
     "execution_count": 17,
     "metadata": {},
     "output_type": "execute_result"
    }
   ],
   "source": [
    "total_pop = state_pop['Census'].sum()\n",
    "state_pop['freq'] = state_pop['Census']/total_pop\n",
    "state_pop.head()"
   ]
  },
  {
   "cell_type": "code",
   "execution_count": 18,
   "metadata": {
    "collapsed": false
   },
   "outputs": [],
   "source": [
    "possible_state_freq = local_train_X['cat112'].value_counts()\n",
    "possible_state_freq = possible_state_freq.sort_values(ascending=False) / possible_state_freq.sum()\n",
    "allState_state = possible_state_freq.axes[0].tolist()"
   ]
  },
  {
   "cell_type": "code",
   "execution_count": 19,
   "metadata": {
    "collapsed": false
   },
   "outputs": [],
   "source": [
    "state_order = state_pop.sort_values(by='freq', ascending=False)['State'].map(lambda x: x.replace('.', ''))\n",
    "state_order = state_order.tolist()\n"
   ]
  },
  {
   "cell_type": "code",
   "execution_count": 20,
   "metadata": {
    "collapsed": false
   },
   "outputs": [
    {
     "name": "stdout",
     "output_type": "stream",
     "text": [
      "Label Predicted-State\n",
      "E California\n",
      "AH Texas\n",
      "AS New York\n",
      "J Florida\n",
      "AF Illinois\n",
      "AN Pennsylvania\n",
      "N Ohio\n",
      "U Michigan\n",
      "AV Georgia\n",
      "AK North Carolina\n",
      "K New Jersey\n",
      "AI Virginia\n",
      "S Washington\n",
      "AP Massachusetts\n",
      "G Indiana\n",
      "F Arizona\n",
      "AW Tennessee\n",
      "A Missouri\n",
      "AR Maryland\n",
      "C Wisconsin\n",
      "O Minnesota\n",
      "D Colorado\n",
      "AD Alabama\n",
      "AY South Carolina\n",
      "Y Louisiana\n",
      "AG Kentucky\n",
      "AT Oregon\n",
      "AA Oklahoma\n",
      "AM Connecticut\n",
      "R Iowa\n",
      "AL Mississippi\n",
      "AX Arkansas\n",
      "I Kansas\n",
      "X Utah\n",
      "Q Nevada\n",
      "AE New Mexico\n",
      "V West Virginia\n",
      "AO Nebraska\n",
      "H Idaho\n",
      "T Hawaii\n",
      "L Maine\n",
      "AC New Hampshire\n",
      "W Rhode Island\n",
      "AU Montana\n",
      "M Delaware\n",
      "B South Dakota\n",
      "P Alaska\n",
      "AB North Dakota\n",
      "BA Vermont\n",
      "AJ District of Columbia\n",
      "AQ Wyoming\n"
     ]
    }
   ],
   "source": [
    "print('Label', 'Predicted-State')\n",
    "for i, j in enumerate(allState_state):\n",
    "    print(j, state_order[i])"
   ]
  },
  {
   "cell_type": "markdown",
   "metadata": {},
   "source": [
    "Just from inspection, this seems like a good argument. We have gained some intuition that 'cat112' may be the state column. We'll conduct a chi-squared test, the observed data being our all-state state distribution and predicted being census population data."
   ]
  },
  {
   "cell_type": "code",
   "execution_count": 21,
   "metadata": {
    "collapsed": false
   },
   "outputs": [
    {
     "name": "stdout",
     "output_type": "stream",
     "text": [
      "0.999999999999 7.87586794811\n"
     ]
    }
   ],
   "source": [
    "chi, p = chisquare(possible_state_freq, state_pop['freq'])\n",
    "print(p, chi)"
   ]
  },
  {
   "cell_type": "markdown",
   "metadata": {},
   "source": [
    "A p-value of 0.9999 indicates that our null hypothesis is very likely (almost 100%) to be true. Thus, we can be confident in assuming these are the correct labels for states.\n",
    "\n",
    "So let's make this modification across all datasets."
   ]
  },
  {
   "cell_type": "code",
   "execution_count": 22,
   "metadata": {
    "collapsed": false
   },
   "outputs": [
    {
     "name": "stderr",
     "output_type": "stream",
     "text": [
      "/Users/tinhnguyen/anaconda3/lib/python3.5/site-packages/ipykernel/__main__.py:2: SettingWithCopyWarning: \n",
      "A value is trying to be set on a copy of a slice from a DataFrame.\n",
      "Try using .loc[row_indexer,col_indexer] = value instead\n",
      "\n",
      "See the caveats in the documentation: http://pandas.pydata.org/pandas-docs/stable/indexing.html#indexing-view-versus-copy\n",
      "  from ipykernel import kernelapp as app\n",
      "/Users/tinhnguyen/anaconda3/lib/python3.5/site-packages/ipykernel/__main__.py:3: SettingWithCopyWarning: \n",
      "A value is trying to be set on a copy of a slice from a DataFrame.\n",
      "Try using .loc[row_indexer,col_indexer] = value instead\n",
      "\n",
      "See the caveats in the documentation: http://pandas.pydata.org/pandas-docs/stable/indexing.html#indexing-view-versus-copy\n",
      "  app.launch_new_instance()\n"
     ]
    }
   ],
   "source": [
    "# So let's map our categorical variables in cat112 to statenames\n",
    "local_train_X['cat112'] = local_train_X['cat112'].map(lambda x: state_order[allState_state.index(x)])\n",
    "local_test_X['cat112'] = local_test_X['cat112'].map(lambda x: state_order[allState_state.index(x)])\n",
    "test['cat112'] = test['cat112'].map(lambda x: state_order[allState_state.index(x)])"
   ]
  },
  {
   "cell_type": "code",
   "execution_count": null,
   "metadata": {
    "collapsed": false
   },
   "outputs": [],
   "source": []
  },
  {
   "cell_type": "markdown",
   "metadata": {},
   "source": [
    "Additionally, let's transform all the categorical variables to numbers. Each category is given a specific number (number only represents category, comparisons other than != do not mean anything)."
   ]
  },
  {
   "cell_type": "code",
   "execution_count": 23,
   "metadata": {
    "collapsed": false
   },
   "outputs": [
    {
     "name": "stderr",
     "output_type": "stream",
     "text": [
      "/Users/tinhnguyen/anaconda3/lib/python3.5/site-packages/ipykernel/__main__.py:4: SettingWithCopyWarning: \n",
      "A value is trying to be set on a copy of a slice from a DataFrame.\n",
      "Try using .loc[row_indexer,col_indexer] = value instead\n",
      "\n",
      "See the caveats in the documentation: http://pandas.pydata.org/pandas-docs/stable/indexing.html#indexing-view-versus-copy\n",
      "/Users/tinhnguyen/anaconda3/lib/python3.5/site-packages/ipykernel/__main__.py:5: SettingWithCopyWarning: \n",
      "A value is trying to be set on a copy of a slice from a DataFrame.\n",
      "Try using .loc[row_indexer,col_indexer] = value instead\n",
      "\n",
      "See the caveats in the documentation: http://pandas.pydata.org/pandas-docs/stable/indexing.html#indexing-view-versus-copy\n"
     ]
    }
   ],
   "source": [
    "for col in local_train_X.columns:\n",
    "    if re.match('cat[0-9]+', col):\n",
    "        s = np.union1d(train[col].unique().tolist(), test[col].unique().tolist()).tolist()\n",
    "        local_train_X[col] = local_train_X[col].map(lambda x: s.index(x))\n",
    "        local_test_X[col] = local_test_X[col].map(lambda x: s.index(x))\n",
    "        test[col] = test[col].map(lambda x: s.index(x))"
   ]
  },
  {
   "cell_type": "code",
   "execution_count": null,
   "metadata": {
    "collapsed": false
   },
   "outputs": [],
   "source": []
  },
  {
   "cell_type": "code",
   "execution_count": null,
   "metadata": {
    "collapsed": true
   },
   "outputs": [],
   "source": []
  },
  {
   "cell_type": "code",
   "execution_count": null,
   "metadata": {
    "collapsed": false
   },
   "outputs": [],
   "source": []
  },
  {
   "cell_type": "markdown",
   "metadata": {},
   "source": [
    "## An Attempt at Gradient Boosting (XGB)\n",
    "\n",
    "Special thanks to <b>guyko</b> for an introduction to xgb package. (https://www.kaggle.com/guyko81/allstate-claims-severity/just-an-easy-solution/)\n",
    "\n",
    "#### Installation Instructions\n",
    "\n",
    " - git clone https://github.com/dmlc/xgboost.git\n",
    " - cd xgboost; ./build.sh\n",
    " - cd python-package; python setup.py install"
   ]
  },
  {
   "cell_type": "code",
   "execution_count": 52,
   "metadata": {
    "collapsed": false
   },
   "outputs": [],
   "source": [
    "from scipy.stats import norm, lognorm\n",
    "import xgboost as xgb"
   ]
  },
  {
   "cell_type": "code",
   "execution_count": 53,
   "metadata": {
    "collapsed": false
   },
   "outputs": [
    {
     "data": {
      "image/png": "[encoded data removed]",
      "text/plain": [
       "<matplotlib.figure.Figure at 0x1152c17b8>"
      ]
     },
     "metadata": {},
     "output_type": "display_data"
    }
   ],
   "source": [
    "log_loss = np.log(local_train_y)\n",
    "mu, sigma = norm.fit(log_loss)\n",
    "plt.hist(log_loss, bins=60, facecolor='green')\n",
    "plt.show()"
   ]
  },
  {
   "cell_type": "markdown",
   "metadata": {},
   "source": [
    "From the looks of the log-loss distribution, it seems to be normally distributed."
   ]
  },
  {
   "cell_type": "code",
   "execution_count": null,
   "metadata": {
    "collapsed": false
   },
   "outputs": [],
   "source": []
  },
  {
   "cell_type": "code",
   "execution_count": null,
   "metadata": {
    "collapsed": true
   },
   "outputs": [],
   "source": []
  }
 ],
 "metadata": {
  "anaconda-cloud": {},
  "kernelspec": {
   "display_name": "Python [Root]",
   "language": "python",
   "name": "Python [Root]"
  },
  "language_info": {
   "codemirror_mode": {
    "name": "ipython",
    "version": 3
   },
   "file_extension": ".py",
   "mimetype": "text/x-python",
   "name": "python",
   "nbconvert_exporter": "python",
   "pygments_lexer": "ipython3",
   "version": "3.5.2"
  }
 },
 "nbformat": 4,
 "nbformat_minor": 0
}
